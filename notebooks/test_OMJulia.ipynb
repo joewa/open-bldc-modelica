{
 "cells": [
  {
   "cell_type": "code",
   "execution_count": null,
   "id": "a6fa2ab2-a63d-4bba-b31b-cef55a36fac8",
   "metadata": {},
   "outputs": [],
   "source": [
    "using OMJulia"
   ]
  },
  {
   "cell_type": "markdown",
   "id": "e6e9608e-41e0-4f9c-85ef-144eda2822d0",
   "metadata": {},
   "source": [
    "## Test Commands"
   ]
  },
  {
   "cell_type": "code",
   "execution_count": null,
   "id": "722fc1ea-46ef-4e86-ae47-ee73d8faf688",
   "metadata": {},
   "outputs": [],
   "source": [
    "omc = OMJulia.OMCSession()"
   ]
  },
  {
   "cell_type": "code",
   "execution_count": null,
   "id": "f765e9f9-19b2-4c22-ae7a-a116dd04947a",
   "metadata": {},
   "outputs": [],
   "source": [
    "sendExpression(omc,\"loadModel(Modelica)\")"
   ]
  },
  {
   "cell_type": "code",
   "execution_count": null,
   "id": "2df06438-eef4-4acd-84c8-23c28d6396de",
   "metadata": {},
   "outputs": [],
   "source": [
    "sendExpression(omc,\"model a Real s; equation s=sin(10*time); end a;\")"
   ]
  },
  {
   "cell_type": "code",
   "execution_count": null,
   "id": "a2f41a2a-131b-4b16-8d10-a875061c2b59",
   "metadata": {},
   "outputs": [],
   "source": [
    "sendExpression(omc,\"simulate(a)\")"
   ]
  },
  {
   "cell_type": "code",
   "execution_count": null,
   "id": "ede22df2-9f72-457c-a092-2551ff693f4d",
   "metadata": {},
   "outputs": [],
   "source": [
    "sendExpression(omc,\"plot(s)\")"
   ]
  },
  {
   "cell_type": "markdown",
   "id": "0240f3e0-71c0-470b-8e94-0684b3a996b9",
   "metadata": {},
   "source": [
    "## Advanced OMJulia Features\n",
    "OMJulia package has advanced functionality for querying more information about the models and simulate them. A list of new user friendly API functionality allows user to extract information about models using julia objects. A list of API functionality is described below.\n",
    "\n",
    "To get started, create a ModelicaSystem object:"
   ]
  },
  {
   "cell_type": "code",
   "execution_count": null,
   "id": "a083a3d0-5aa8-419c-9e51-7f47cbefa716",
   "metadata": {},
   "outputs": [],
   "source": [
    "using OMJulia, Plots, Interact, DataFrames\n",
    "\n",
    "testPWM_m = OMJulia.OMCSession()\n",
    "sendExpression(testPWM_m, \"loadModel(Modelica)\")\n",
    "sendExpression(testPWM_m, \"loadFile(\\\"../OpenBLDC/package.mo\\\")\")\n",
    "ModelicaSystem(testPWM_m, \"../OpenBLDC/package.mo\", \"OpenBLDC.Tests.TestPWM\", [\"Modelica\"])  # works\n",
    "setSimulationOptions(testPWM_m, [\"stopTime=2.0\", \"tolerance=1e-8\"])\n",
    "gr(size=(700,300))\n",
    "@manipulate for dutyCycle = 0.05:.05:0.95, periodTime = 0.1:.1:1.0\n",
    "  setParameters(testPWM_m, [\"dutyCycle=$dutyCycle\", \"periodTime=$periodTime\"])\n",
    "  simulate(testPWM_m)\n",
    "  sol = getSolutions(testPWM_m, [\"time\", \"pulseWidthVar.y\"])\n",
    "  time, y = sol[1], sol[2]\n",
    "  p1 = plot(time, y, label=\"\", xlabel=\"time [s]\", ylabel=\"y [-]\")\n",
    "  #p2 = plot(time, v, label=\"\", xlabel=\"time [s]\", ylabel=\"v [V]\")\n",
    "  #plot(p1,p2,layout=(1,2))\n",
    "  plot(p1)\n",
    "end"
   ]
  },
  {
   "cell_type": "code",
   "execution_count": null,
   "id": "e57991f7",
   "metadata": {},
   "outputs": [],
   "source": []
  },
  {
   "cell_type": "code",
   "execution_count": null,
   "id": "d25c26ec-9c91-4ef9-8d5d-878297e9115c",
   "metadata": {},
   "outputs": [],
   "source": [
    "using OMJulia, Plots, Interact\n",
    "\n",
    "mlNLPD = OMJulia.OMCSession()\n",
    "ModelicaSystem(mlNLPD, \"MagLevNLPD.mo\",\"MagLevNLPD\")\n",
    "setSimulationOptions(mlNLPD, [\"stopTime=0.5\", \"tolerance=1e-8\"])\n",
    "gr(size=(700,300))\n",
    "@manipulate for dutyCycle = 0.05:.05:0.95, periodTime = 0.1:.1:1.0\n",
    "  setParameters(mlNLPD, [\"Kp=$Kp\", \"Td=$Td\", \"d0=$d0\"])\n",
    "  simulate(mlNLPD)\n",
    "  sol = getSolutions(mlNLPD, [\"time\", \"d\", \"v\"])\n",
    "  time, d, v = sol[1], sol[2], sol[3]\n",
    "  p1 = plot(time, d, label=\"\", xlabel=\"time [s]\", ylabel=\"d [m]\")\n",
    "  p2 = plot(time, v, label=\"\", xlabel=\"time [s]\", ylabel=\"v [V]\")\n",
    "  plot(p1,p2,layout=(1,2))\n",
    "end"
   ]
  },
  {
   "cell_type": "code",
   "execution_count": null,
   "id": "df6d8d47-f02a-4dbc-81c1-dfd66159352d",
   "metadata": {},
   "outputs": [],
   "source": []
  }
 ],
 "metadata": {
  "@webio": {
   "lastCommId": "66dac7cd-d93d-4119-becf-fadfa1b47cad",
   "lastKernelId": "3a3cb5ba-fb14-4bb6-9c28-50f7a0beb156"
  },
  "kernelspec": {
   "display_name": "Julia 1.7.2",
   "language": "julia",
   "name": "julia-1.7"
  },
  "language_info": {
   "file_extension": ".jl",
   "mimetype": "application/julia",
   "name": "julia",
   "version": "1.7.2"
  }
 },
 "nbformat": 4,
 "nbformat_minor": 5
}
