{
 "cells": [
  {
   "cell_type": "code",
   "execution_count": null,
   "id": "a6fa2ab2-a63d-4bba-b31b-cef55a36fac8",
   "metadata": {},
   "outputs": [],
   "source": [
    "using OMJulia"
   ]
  },
  {
   "cell_type": "markdown",
   "id": "e6e9608e-41e0-4f9c-85ef-144eda2822d0",
   "metadata": {},
   "source": [
    "## Test Commands"
   ]
  },
  {
   "cell_type": "code",
   "execution_count": null,
   "id": "722fc1ea-46ef-4e86-ae47-ee73d8faf688",
   "metadata": {},
   "outputs": [],
   "source": [
    "omc = OMJulia.OMCSession()"
   ]
  },
  {
   "cell_type": "code",
   "execution_count": null,
   "id": "f765e9f9-19b2-4c22-ae7a-a116dd04947a",
   "metadata": {},
   "outputs": [],
   "source": [
    "sendExpression(omc,\"loadModel(Modelica)\")"
   ]
  },
  {
   "cell_type": "code",
   "execution_count": null,
   "id": "2df06438-eef4-4acd-84c8-23c28d6396de",
   "metadata": {},
   "outputs": [],
   "source": [
    "sendExpression(omc,\"model a Real s; equation s=sin(10*time); end a;\")"
   ]
  },
  {
   "cell_type": "code",
   "execution_count": null,
   "id": "a2f41a2a-131b-4b16-8d10-a875061c2b59",
   "metadata": {},
   "outputs": [],
   "source": [
    "sendExpression(omc,\"simulate(a)\")"
   ]
  },
  {
   "cell_type": "code",
   "execution_count": null,
   "id": "ede22df2-9f72-457c-a092-2551ff693f4d",
   "metadata": {},
   "outputs": [],
   "source": [
    "sendExpression(omc,\"plot(s)\")"
   ]
  },
  {
   "cell_type": "markdown",
   "id": "0240f3e0-71c0-470b-8e94-0684b3a996b9",
   "metadata": {},
   "source": [
    "## Advanced OMJulia Features\n",
    "OMJulia package has advanced functionality for querying more information about the models and simulate them. A list of new user friendly API functionality allows user to extract information about models using julia objects. A list of API functionality is described below.\n",
    "\n",
    "To get started, create a ModelicaSystem object:"
   ]
  },
  {
   "cell_type": "code",
   "execution_count": 3,
   "id": "a083a3d0-5aa8-419c-9e51-7f47cbefa716",
   "metadata": {},
   "outputs": [
    {
     "name": "stderr",
     "output_type": "stream",
     "text": [
      "\u001b[36m\u001b[1m[ \u001b[22m\u001b[39m\u001b[36m\u001b[1mInfo: \u001b[22m\u001b[39mPath to zmq file=\"/tmp/openmodelica.joerg.port.julia.D9LNLPn7tN\"\n"
     ]
    },
    {
     "name": "stdout",
     "output_type": "stream",
     "text": [
      "stopTime=2.0\n",
      "\n",
      "periodTime=0.5\n",
      "\n",
      "dutyCycle=0.5\n",
      "\n",
      "tolerance=1e-8\n",
      "\n"
     ]
    },
    {
     "data": {
      "application/vnd.webio.node+json": {
       "children": [
        {
         "children": [
          {
           "children": [
            {
             "children": [
              {
               "children": [
                {
                 "children": [
                  "dutyCycle"
                 ],
                 "instanceArgs": {
                  "namespace": "html",
                  "tag": "label"
                 },
                 "nodeType": "DOM",
                 "props": {
                  "className": "interact ",
                  "style": {
                   "padding": "5px 10px 0px 10px"
                  }
                 },
                 "type": "node"
                }
               ],
               "instanceArgs": {
                "namespace": "html",
                "tag": "div"
               },
               "nodeType": "DOM",
               "props": {
                "className": "interact-flex-row-left"
               },
               "type": "node"
              },
              {
               "children": [
                {
                 "children": [],
                 "instanceArgs": {
                  "namespace": "html",
                  "tag": "input"
                 },
                 "nodeType": "DOM",
                 "props": {
                  "attributes": {
                   "data-bind": "numericValue: index, valueUpdate: 'input', event: {change: function (){this.changes(this.changes()+1)}}",
                   "orient": "horizontal",
                   "type": "range"
                  },
                  "className": "slider slider is-fullwidth",
                  "max": 19,
                  "min": 1,
                  "step": 1,
                  "style": {}
                 },
                 "type": "node"
                }
               ],
               "instanceArgs": {
                "namespace": "html",
                "tag": "div"
               },
               "nodeType": "DOM",
               "props": {
                "className": "interact-flex-row-center"
               },
               "type": "node"
              },
              {
               "children": [
                {
                 "children": [],
                 "instanceArgs": {
                  "namespace": "html",
                  "tag": "p"
                 },
                 "nodeType": "DOM",
                 "props": {
                  "attributes": {
                   "data-bind": "text: formatted_val"
                  }
                 },
                 "type": "node"
                }
               ],
               "instanceArgs": {
                "namespace": "html",
                "tag": "div"
               },
               "nodeType": "DOM",
               "props": {
                "className": "interact-flex-row-right"
               },
               "type": "node"
              }
             ],
             "instanceArgs": {
              "namespace": "html",
              "tag": "div"
             },
             "nodeType": "DOM",
             "props": {
              "className": "interact-flex-row interact-widget"
             },
             "type": "node"
            }
           ],
           "instanceArgs": {
            "handlers": {
             "changes": [
              "(function (val){return (val!=this.model[\"changes\"]()) ? (this.valueFromJulia[\"changes\"]=true, this.model[\"changes\"](val)) : undefined})"
             ],
             "index": [
              "(function (val){return (val!=this.model[\"index\"]()) ? (this.valueFromJulia[\"index\"]=true, this.model[\"index\"](val)) : undefined})"
             ]
            },
            "id": "432128499611573934",
            "imports": {
             "data": [
              {
               "name": "knockout",
               "type": "js",
               "url": "/assetserver/7131c77e135a4750f5f3b40f55e738d738110c3c-knockout.js"
              },
              {
               "name": "knockout_punches",
               "type": "js",
               "url": "/assetserver/6c7b4fe9879ab54653878e13a149e67913cebca5-knockout_punches.js"
              },
              {
               "name": null,
               "type": "js",
               "url": "/assetserver/991344467de79b07324668eaf744d1360c6f386d-all.js"
              },
              {
               "name": null,
               "type": "css",
               "url": "/assetserver/c5d0f93d59f1e261e7cdbac3d3917d9cdd19fa1a-style.css"
              },
              {
               "name": null,
               "type": "css",
               "url": "/assetserver/bc6416a0ee63fe13520cdc40c1b644b0e4fd93e9-bulma_confined.min.css"
              }
             ],
             "type": "async_block"
            },
            "mount_callbacks": [
             "function () {\n    var handler = (function (ko, koPunches) {\n    ko.punches.enableAll();\n    ko.bindingHandlers.numericValue = {\n        init: function(element, valueAccessor, allBindings, data, context) {\n            var stringified = ko.observable(ko.unwrap(valueAccessor()));\n            stringified.subscribe(function(value) {\n                var val = parseFloat(value);\n                if (!isNaN(val)) {\n                    valueAccessor()(val);\n                }\n            });\n            valueAccessor().subscribe(function(value) {\n                var str = JSON.stringify(value);\n                if ((str == \"0\") && ([\"-0\", \"-0.\"].indexOf(stringified()) >= 0))\n                     return;\n                 if ([\"null\", \"\"].indexOf(str) >= 0)\n                     return;\n                stringified(str);\n            });\n            ko.applyBindingsToNode(\n                element,\n                {\n                    value: stringified,\n                    valueUpdate: allBindings.get('valueUpdate'),\n                },\n                context,\n            );\n        }\n    };\n    var json_data = {\"formatted_vals\":[\"0.05\",\"0.1\",\"0.15\",\"0.2\",\"0.25\",\"0.3\",\"0.35\",\"0.4\",\"0.45\",\"0.5\",\"0.55\",\"0.6\",\"0.65\",\"0.7\",\"0.75\",\"0.8\",\"0.85\",\"0.9\",\"0.95\"],\"changes\":WebIO.getval({\"name\":\"changes\",\"scope\":\"432128499611573934\",\"id\":\"2121852769789286285\",\"type\":\"observable\"}),\"index\":WebIO.getval({\"name\":\"index\",\"scope\":\"432128499611573934\",\"id\":\"4466760699861735115\",\"type\":\"observable\"})};\n    var self = this;\n    function AppViewModel() {\n        for (var key in json_data) {\n            var el = json_data[key];\n            this[key] = Array.isArray(el) ? ko.observableArray(el) : ko.observable(el);\n        }\n        \n        [this[\"formatted_val\"]=ko.computed(    function(){\n        return this.formatted_vals()[parseInt(this.index())-(1)];\n    }\n,this)]\n        [this[\"changes\"].subscribe((function (val){!(this.valueFromJulia[\"changes\"]) ? (WebIO.setval({\"name\":\"changes\",\"scope\":\"432128499611573934\",\"id\":\"2121852769789286285\",\"type\":\"observable\"},val)) : undefined; return this.valueFromJulia[\"changes\"]=false}),self),this[\"index\"].subscribe((function (val){!(this.valueFromJulia[\"index\"]) ? (WebIO.setval({\"name\":\"index\",\"scope\":\"432128499611573934\",\"id\":\"4466760699861735115\",\"type\":\"observable\"},val)) : undefined; return this.valueFromJulia[\"index\"]=false}),self)]\n        \n    }\n    self.model = new AppViewModel();\n    self.valueFromJulia = {};\n    for (var key in json_data) {\n        self.valueFromJulia[key] = false;\n    }\n    ko.applyBindings(self.model, self.dom);\n}\n);\n    (WebIO.importBlock({\"data\":[{\"name\":\"knockout\",\"type\":\"js\",\"url\":\"/assetserver/7131c77e135a4750f5f3b40f55e738d738110c3c-knockout.js\"},{\"name\":\"knockout_punches\",\"type\":\"js\",\"url\":\"/assetserver/6c7b4fe9879ab54653878e13a149e67913cebca5-knockout_punches.js\"}],\"type\":\"async_block\"})).then((imports) => handler.apply(this, imports));\n}\n"
            ],
            "observables": {
             "changes": {
              "id": "2121852769789286285",
              "sync": false,
              "value": 0
             },
             "index": {
              "id": "4466760699861735115",
              "sync": true,
              "value": 10
             }
            },
            "systemjs_options": null
           },
           "nodeType": "Scope",
           "props": {},
           "type": "node"
          }
         ],
         "instanceArgs": {
          "namespace": "html",
          "tag": "div"
         },
         "nodeType": "DOM",
         "props": {
          "className": "field interact-widget"
         },
         "type": "node"
        },
        {
         "children": [
          {
           "children": [
            {
             "children": [
              {
               "children": [
                {
                 "children": [
                  "periodTime"
                 ],
                 "instanceArgs": {
                  "namespace": "html",
                  "tag": "label"
                 },
                 "nodeType": "DOM",
                 "props": {
                  "className": "interact ",
                  "style": {
                   "padding": "5px 10px 0px 10px"
                  }
                 },
                 "type": "node"
                }
               ],
               "instanceArgs": {
                "namespace": "html",
                "tag": "div"
               },
               "nodeType": "DOM",
               "props": {
                "className": "interact-flex-row-left"
               },
               "type": "node"
              },
              {
               "children": [
                {
                 "children": [],
                 "instanceArgs": {
                  "namespace": "html",
                  "tag": "input"
                 },
                 "nodeType": "DOM",
                 "props": {
                  "attributes": {
                   "data-bind": "numericValue: index, valueUpdate: 'input', event: {change: function (){this.changes(this.changes()+1)}}",
                   "orient": "horizontal",
                   "type": "range"
                  },
                  "className": "slider slider is-fullwidth",
                  "max": 10,
                  "min": 1,
                  "step": 1,
                  "style": {}
                 },
                 "type": "node"
                }
               ],
               "instanceArgs": {
                "namespace": "html",
                "tag": "div"
               },
               "nodeType": "DOM",
               "props": {
                "className": "interact-flex-row-center"
               },
               "type": "node"
              },
              {
               "children": [
                {
                 "children": [],
                 "instanceArgs": {
                  "namespace": "html",
                  "tag": "p"
                 },
                 "nodeType": "DOM",
                 "props": {
                  "attributes": {
                   "data-bind": "text: formatted_val"
                  }
                 },
                 "type": "node"
                }
               ],
               "instanceArgs": {
                "namespace": "html",
                "tag": "div"
               },
               "nodeType": "DOM",
               "props": {
                "className": "interact-flex-row-right"
               },
               "type": "node"
              }
             ],
             "instanceArgs": {
              "namespace": "html",
              "tag": "div"
             },
             "nodeType": "DOM",
             "props": {
              "className": "interact-flex-row interact-widget"
             },
             "type": "node"
            }
           ],
           "instanceArgs": {
            "handlers": {
             "changes": [
              "(function (val){return (val!=this.model[\"changes\"]()) ? (this.valueFromJulia[\"changes\"]=true, this.model[\"changes\"](val)) : undefined})"
             ],
             "index": [
              "(function (val){return (val!=this.model[\"index\"]()) ? (this.valueFromJulia[\"index\"]=true, this.model[\"index\"](val)) : undefined})"
             ]
            },
            "id": "11206522371445265560",
            "imports": {
             "data": [
              {
               "name": "knockout",
               "type": "js",
               "url": "/assetserver/7131c77e135a4750f5f3b40f55e738d738110c3c-knockout.js"
              },
              {
               "name": "knockout_punches",
               "type": "js",
               "url": "/assetserver/6c7b4fe9879ab54653878e13a149e67913cebca5-knockout_punches.js"
              },
              {
               "name": null,
               "type": "js",
               "url": "/assetserver/991344467de79b07324668eaf744d1360c6f386d-all.js"
              },
              {
               "name": null,
               "type": "css",
               "url": "/assetserver/c5d0f93d59f1e261e7cdbac3d3917d9cdd19fa1a-style.css"
              },
              {
               "name": null,
               "type": "css",
               "url": "/assetserver/bc6416a0ee63fe13520cdc40c1b644b0e4fd93e9-bulma_confined.min.css"
              }
             ],
             "type": "async_block"
            },
            "mount_callbacks": [
             "function () {\n    var handler = (function (ko, koPunches) {\n    ko.punches.enableAll();\n    ko.bindingHandlers.numericValue = {\n        init: function(element, valueAccessor, allBindings, data, context) {\n            var stringified = ko.observable(ko.unwrap(valueAccessor()));\n            stringified.subscribe(function(value) {\n                var val = parseFloat(value);\n                if (!isNaN(val)) {\n                    valueAccessor()(val);\n                }\n            });\n            valueAccessor().subscribe(function(value) {\n                var str = JSON.stringify(value);\n                if ((str == \"0\") && ([\"-0\", \"-0.\"].indexOf(stringified()) >= 0))\n                     return;\n                 if ([\"null\", \"\"].indexOf(str) >= 0)\n                     return;\n                stringified(str);\n            });\n            ko.applyBindingsToNode(\n                element,\n                {\n                    value: stringified,\n                    valueUpdate: allBindings.get('valueUpdate'),\n                },\n                context,\n            );\n        }\n    };\n    var json_data = {\"formatted_vals\":[\"0.1\",\"0.2\",\"0.3\",\"0.4\",\"0.5\",\"0.6\",\"0.7\",\"0.8\",\"0.9\",\"1.0\"],\"changes\":WebIO.getval({\"name\":\"changes\",\"scope\":\"11206522371445265560\",\"id\":\"5102294256921586576\",\"type\":\"observable\"}),\"index\":WebIO.getval({\"name\":\"index\",\"scope\":\"11206522371445265560\",\"id\":\"3196743261812157359\",\"type\":\"observable\"})};\n    var self = this;\n    function AppViewModel() {\n        for (var key in json_data) {\n            var el = json_data[key];\n            this[key] = Array.isArray(el) ? ko.observableArray(el) : ko.observable(el);\n        }\n        \n        [this[\"formatted_val\"]=ko.computed(    function(){\n        return this.formatted_vals()[parseInt(this.index())-(1)];\n    }\n,this)]\n        [this[\"changes\"].subscribe((function (val){!(this.valueFromJulia[\"changes\"]) ? (WebIO.setval({\"name\":\"changes\",\"scope\":\"11206522371445265560\",\"id\":\"5102294256921586576\",\"type\":\"observable\"},val)) : undefined; return this.valueFromJulia[\"changes\"]=false}),self),this[\"index\"].subscribe((function (val){!(this.valueFromJulia[\"index\"]) ? (WebIO.setval({\"name\":\"index\",\"scope\":\"11206522371445265560\",\"id\":\"3196743261812157359\",\"type\":\"observable\"},val)) : undefined; return this.valueFromJulia[\"index\"]=false}),self)]\n        \n    }\n    self.model = new AppViewModel();\n    self.valueFromJulia = {};\n    for (var key in json_data) {\n        self.valueFromJulia[key] = false;\n    }\n    ko.applyBindings(self.model, self.dom);\n}\n);\n    (WebIO.importBlock({\"data\":[{\"name\":\"knockout\",\"type\":\"js\",\"url\":\"/assetserver/7131c77e135a4750f5f3b40f55e738d738110c3c-knockout.js\"},{\"name\":\"knockout_punches\",\"type\":\"js\",\"url\":\"/assetserver/6c7b4fe9879ab54653878e13a149e67913cebca5-knockout_punches.js\"}],\"type\":\"async_block\"})).then((imports) => handler.apply(this, imports));\n}\n"
            ],
            "observables": {
             "changes": {
              "id": "5102294256921586576",
              "sync": false,
              "value": 0
             },
             "index": {
              "id": "3196743261812157359",
              "sync": true,
              "value": 5
             }
            },
            "systemjs_options": null
           },
           "nodeType": "Scope",
           "props": {},
           "type": "node"
          }
         ],
         "instanceArgs": {
          "namespace": "html",
          "tag": "div"
         },
         "nodeType": "DOM",
         "props": {
          "className": "field interact-widget"
         },
         "type": "node"
        },
        {
         "children": [
          {
           "children": [],
           "instanceArgs": {
            "id": "5016608411641275963",
            "name": "obs-node"
           },
           "nodeType": "ObservableNode",
           "props": {},
           "type": "node"
          }
         ],
         "instanceArgs": {
          "handlers": {},
          "id": "7261014357452853436",
          "imports": {
           "data": [],
           "type": "async_block"
          },
          "mount_callbacks": [],
          "observables": {
           "obs-node": {
            "id": "5016608411641275963",
            "sync": false,
            "value": {
             "children": [
              {
               "children": [],
               "instanceArgs": {
                "namespace": "html",
                "tag": "div"
               },
               "nodeType": "DOM",
               "props": {
                "setInnerHtml": "<?xml version=\"1.0\" encoding=\"utf-8\"?>\n<svg xmlns=\"http://www.w3.org/2000/svg\" xmlns:xlink=\"http://www.w3.org/1999/xlink\" width=\"700\" height=\"300\" viewBox=\"0 0 2800 1200\">\n<defs>\n  <clipPath id=\"clip810\">\n    <rect x=\"0\" y=\"0\" width=\"2800\" height=\"1200\"/>\n  </clipPath>\n</defs>\n<path clip-path=\"url(#clip810)\" d=\"M0 1200 L2800 1200 L2800 0 L0 0  Z\" fill=\"#ffffff\" fill-rule=\"evenodd\" fill-opacity=\"1\"/>\n<defs>\n  <clipPath id=\"clip811\">\n    <rect x=\"560\" y=\"0\" width=\"1961\" height=\"1200\"/>\n  </clipPath>\n</defs>\n<path clip-path=\"url(#clip810)\" d=\"M236.571 1056.49 L2752.76 1056.49 L2752.76 47.2441 L236.571 47.2441  Z\" fill=\"#ffffff\" fill-rule=\"evenodd\" fill-opacity=\"1\"/>\n<defs>\n  <clipPath id=\"clip812\">\n    <rect x=\"236\" y=\"47\" width=\"2517\" height=\"1010\"/>\n  </clipPath>\n</defs>\n<polyline clip-path=\"url(#clip812)\" style=\"stroke:#000000; stroke-linecap:round; stroke-linejoin:round; stroke-width:2; stroke-opacity:0.1; fill:none\" points=\"307.783,1056.49 307.783,47.2441 \"/>\n<polyline clip-path=\"url(#clip812)\" style=\"stroke:#000000; stroke-linecap:round; stroke-linejoin:round; stroke-width:2; stroke-opacity:0.1; fill:none\" points=\"901.223,1056.49 901.223,47.2441 \"/>\n<polyline clip-path=\"url(#clip812)\" style=\"stroke:#000000; stroke-linecap:round; stroke-linejoin:round; stroke-width:2; stroke-opacity:0.1; fill:none\" points=\"1494.66,1056.49 1494.66,47.2441 \"/>\n<polyline clip-path=\"url(#clip812)\" style=\"stroke:#000000; stroke-linecap:round; stroke-linejoin:round; stroke-width:2; stroke-opacity:0.1; fill:none\" points=\"2088.1,1056.49 2088.1,47.2441 \"/>\n<polyline clip-path=\"url(#clip812)\" style=\"stroke:#000000; stroke-linecap:round; stroke-linejoin:round; stroke-width:2; stroke-opacity:0.1; fill:none\" points=\"2681.54,1056.49 2681.54,47.2441 \"/>\n<polyline clip-path=\"url(#clip810)\" style=\"stroke:#000000; stroke-linecap:round; stroke-linejoin:round; stroke-width:4; stroke-opacity:1; fill:none\" points=\"236.571,1056.49 2752.76,1056.49 \"/>\n<polyline clip-path=\"url(#clip810)\" style=\"stroke:#000000; stroke-linecap:round; stroke-linejoin:round; stroke-width:4; stroke-opacity:1; fill:none\" points=\"307.783,1056.49 307.783,1037.6 \"/>\n<polyline clip-path=\"url(#clip810)\" style=\"stroke:#000000; stroke-linecap:round; stroke-linejoin:round; stroke-width:4; stroke-opacity:1; fill:none\" points=\"901.223,1056.49 901.223,1037.6 \"/>\n<polyline clip-path=\"url(#clip810)\" style=\"stroke:#000000; stroke-linecap:round; stroke-linejoin:round; stroke-width:4; stroke-opacity:1; fill:none\" points=\"1494.66,1056.49 1494.66,1037.6 \"/>\n<polyline clip-path=\"url(#clip810)\" style=\"stroke:#000000; stroke-linecap:round; stroke-linejoin:round; stroke-width:4; stroke-opacity:1; fill:none\" points=\"2088.1,1056.49 2088.1,1037.6 \"/>\n<polyline clip-path=\"url(#clip810)\" style=\"stroke:#000000; stroke-linecap:round; stroke-linejoin:round; stroke-width:4; stroke-opacity:1; fill:none\" points=\"2681.54,1056.49 2681.54,1037.6 \"/>\n<path clip-path=\"url(#clip810)\" d=\"M285.168 1090.61 Q281.557 1090.61 279.728 1094.18 Q277.922 1097.72 277.922 1104.85 Q277.922 1111.96 279.728 1115.52 Q281.557 1119.06 285.168 1119.06 Q288.802 1119.06 290.608 1115.52 Q292.436 1111.96 292.436 1104.85 Q292.436 1097.72 290.608 1094.18 Q288.802 1090.61 285.168 1090.61 M285.168 1086.91 Q290.978 1086.91 294.033 1091.52 Q297.112 1096.1 297.112 1104.85 Q297.112 1113.58 294.033 1118.18 Q290.978 1122.77 285.168 1122.77 Q279.358 1122.77 276.279 1118.18 Q273.223 1113.58 273.223 1104.85 Q273.223 1096.1 276.279 1091.52 Q279.358 1086.91 285.168 1086.91 Z\" fill=\"#000000\" fill-rule=\"nonzero\" fill-opacity=\"1\" /><path clip-path=\"url(#clip810)\" d=\"M305.33 1116.21 L310.214 1116.21 L310.214 1122.09 L305.33 1122.09 L305.33 1116.21 Z\" fill=\"#000000\" fill-rule=\"nonzero\" fill-opacity=\"1\" /><path clip-path=\"url(#clip810)\" d=\"M330.399 1090.61 Q326.788 1090.61 324.959 1094.18 Q323.154 1097.72 323.154 1104.85 Q323.154 1111.96 324.959 1115.52 Q326.788 1119.06 330.399 1119.06 Q334.033 1119.06 335.839 1115.52 Q337.667 1111.96 337.667 1104.85 Q337.667 1097.72 335.839 1094.18 Q334.033 1090.61 330.399 1090.61 M330.399 1086.91 Q336.209 1086.91 339.265 1091.52 Q342.343 1096.1 342.343 1104.85 Q342.343 1113.58 339.265 1118.18 Q336.209 1122.77 330.399 1122.77 Q324.589 1122.77 321.51 1118.18 Q318.455 1113.58 318.455 1104.85 Q318.455 1096.1 321.51 1091.52 Q324.589 1086.91 330.399 1086.91 Z\" fill=\"#000000\" fill-rule=\"nonzero\" fill-opacity=\"1\" /><path clip-path=\"url(#clip810)\" d=\"M879.105 1090.61 Q875.494 1090.61 873.666 1094.18 Q871.86 1097.72 871.86 1104.85 Q871.86 1111.96 873.666 1115.52 Q875.494 1119.06 879.105 1119.06 Q882.74 1119.06 884.545 1115.52 Q886.374 1111.96 886.374 1104.85 Q886.374 1097.72 884.545 1094.18 Q882.74 1090.61 879.105 1090.61 M879.105 1086.91 Q884.916 1086.91 887.971 1091.52 Q891.05 1096.1 891.05 1104.85 Q891.05 1113.58 887.971 1118.18 Q884.916 1122.77 879.105 1122.77 Q873.295 1122.77 870.217 1118.18 Q867.161 1113.58 867.161 1104.85 Q867.161 1096.1 870.217 1091.52 Q873.295 1086.91 879.105 1086.91 Z\" fill=\"#000000\" fill-rule=\"nonzero\" fill-opacity=\"1\" /><path clip-path=\"url(#clip810)\" d=\"M899.267 1116.21 L904.152 1116.21 L904.152 1122.09 L899.267 1122.09 L899.267 1116.21 Z\" fill=\"#000000\" fill-rule=\"nonzero\" fill-opacity=\"1\" /><path clip-path=\"url(#clip810)\" d=\"M914.383 1087.53 L932.739 1087.53 L932.739 1091.47 L918.665 1091.47 L918.665 1099.94 Q919.684 1099.59 920.702 1099.43 Q921.721 1099.25 922.739 1099.25 Q928.526 1099.25 931.906 1102.42 Q935.286 1105.59 935.286 1111.01 Q935.286 1116.58 931.813 1119.69 Q928.341 1122.77 922.022 1122.77 Q919.846 1122.77 917.577 1122.4 Q915.332 1122.02 912.925 1121.28 L912.925 1116.58 Q915.008 1117.72 917.23 1118.27 Q919.452 1118.83 921.929 1118.83 Q925.934 1118.83 928.272 1116.72 Q930.61 1114.62 930.61 1111.01 Q930.61 1107.4 928.272 1105.29 Q925.934 1103.18 921.929 1103.18 Q920.054 1103.18 918.179 1103.6 Q916.327 1104.02 914.383 1104.9 L914.383 1087.53 Z\" fill=\"#000000\" fill-rule=\"nonzero\" fill-opacity=\"1\" /><path clip-path=\"url(#clip810)\" d=\"M1461.82 1118.16 L1469.46 1118.16 L1469.46 1091.79 L1461.14 1093.46 L1461.14 1089.2 L1469.41 1087.53 L1474.08 1087.53 L1474.08 1118.16 L1481.72 1118.16 L1481.72 1122.09 L1461.82 1122.09 L1461.82 1118.16 Z\" fill=\"#000000\" fill-rule=\"nonzero\" fill-opacity=\"1\" /><path clip-path=\"url(#clip810)\" d=\"M1491.17 1116.21 L1496.05 1116.21 L1496.05 1122.09 L1491.17 1122.09 L1491.17 1116.21 Z\" fill=\"#000000\" fill-rule=\"nonzero\" fill-opacity=\"1\" /><path clip-path=\"url(#clip810)\" d=\"M1516.24 1090.61 Q1512.63 1090.61 1510.8 1094.18 Q1508.99 1097.72 1508.99 1104.85 Q1508.99 1111.96 1510.8 1115.52 Q1512.63 1119.06 1516.24 1119.06 Q1519.87 1119.06 1521.68 1115.52 Q1523.51 1111.96 1523.51 1104.85 Q1523.51 1097.72 1521.68 1094.18 Q1519.87 1090.61 1516.24 1090.61 M1516.24 1086.91 Q1522.05 1086.91 1525.1 1091.52 Q1528.18 1096.1 1528.18 1104.85 Q1528.18 1113.58 1525.1 1118.18 Q1522.05 1122.77 1516.24 1122.77 Q1510.43 1122.77 1507.35 1118.18 Q1504.29 1113.58 1504.29 1104.85 Q1504.29 1096.1 1507.35 1091.52 Q1510.43 1086.91 1516.24 1086.91 Z\" fill=\"#000000\" fill-rule=\"nonzero\" fill-opacity=\"1\" /><path clip-path=\"url(#clip810)\" d=\"M2055.75 1118.16 L2063.39 1118.16 L2063.39 1091.79 L2055.08 1093.46 L2055.08 1089.2 L2063.35 1087.53 L2068.02 1087.53 L2068.02 1118.16 L2075.66 1118.16 L2075.66 1122.09 L2055.75 1122.09 L2055.75 1118.16 Z\" fill=\"#000000\" fill-rule=\"nonzero\" fill-opacity=\"1\" /><path clip-path=\"url(#clip810)\" d=\"M2085.11 1116.21 L2089.99 1116.21 L2089.99 1122.09 L2085.11 1122.09 L2085.11 1116.21 Z\" fill=\"#000000\" fill-rule=\"nonzero\" fill-opacity=\"1\" /><path clip-path=\"url(#clip810)\" d=\"M2100.22 1087.53 L2118.58 1087.53 L2118.58 1091.47 L2104.5 1091.47 L2104.5 1099.94 Q2105.52 1099.59 2106.54 1099.43 Q2107.56 1099.25 2108.58 1099.25 Q2114.36 1099.25 2117.74 1102.42 Q2121.12 1105.59 2121.12 1111.01 Q2121.12 1116.58 2117.65 1119.69 Q2114.18 1122.77 2107.86 1122.77 Q2105.68 1122.77 2103.42 1122.4 Q2101.17 1122.02 2098.76 1121.28 L2098.76 1116.58 Q2100.85 1117.72 2103.07 1118.27 Q2105.29 1118.83 2107.77 1118.83 Q2111.77 1118.83 2114.11 1116.72 Q2116.45 1114.62 2116.45 1111.01 Q2116.45 1107.4 2114.11 1105.29 Q2111.77 1103.18 2107.77 1103.18 Q2105.89 1103.18 2104.02 1103.6 Q2102.17 1104.02 2100.22 1104.9 L2100.22 1087.53 Z\" fill=\"#000000\" fill-rule=\"nonzero\" fill-opacity=\"1\" /><path clip-path=\"url(#clip810)\" d=\"M2652.78 1118.16 L2669.1 1118.16 L2669.1 1122.09 L2647.16 1122.09 L2647.16 1118.16 Q2649.82 1115.4 2654.4 1110.77 Q2659.01 1106.12 2660.19 1104.78 Q2662.43 1102.26 2663.31 1100.52 Q2664.22 1098.76 2664.22 1097.07 Q2664.22 1094.32 2662.27 1092.58 Q2660.35 1090.84 2657.25 1090.84 Q2655.05 1090.84 2652.6 1091.61 Q2650.17 1092.37 2647.39 1093.92 L2647.39 1089.2 Q2650.21 1088.07 2652.67 1087.49 Q2655.12 1086.91 2657.16 1086.91 Q2662.53 1086.91 2665.72 1089.59 Q2668.92 1092.28 2668.92 1096.77 Q2668.92 1098.9 2668.11 1100.82 Q2667.32 1102.72 2665.21 1105.31 Q2664.63 1105.98 2661.53 1109.2 Q2658.43 1112.4 2652.78 1118.16 Z\" fill=\"#000000\" fill-rule=\"nonzero\" fill-opacity=\"1\" /><path clip-path=\"url(#clip810)\" d=\"M2678.92 1116.21 L2683.8 1116.21 L2683.8 1122.09 L2678.92 1122.09 L2678.92 1116.21 Z\" fill=\"#000000\" fill-rule=\"nonzero\" fill-opacity=\"1\" /><path clip-path=\"url(#clip810)\" d=\"M2703.99 1090.61 Q2700.37 1090.61 2698.55 1094.18 Q2696.74 1097.72 2696.74 1104.85 Q2696.74 1111.96 2698.55 1115.52 Q2700.37 1119.06 2703.99 1119.06 Q2707.62 1119.06 2709.42 1115.52 Q2711.25 1111.96 2711.25 1104.85 Q2711.25 1097.72 2709.42 1094.18 Q2707.62 1090.61 2703.99 1090.61 M2703.99 1086.91 Q2709.8 1086.91 2712.85 1091.52 Q2715.93 1096.1 2715.93 1104.85 Q2715.93 1113.58 2712.85 1118.18 Q2709.8 1122.77 2703.99 1122.77 Q2698.17 1122.77 2695.1 1118.18 Q2692.04 1113.58 2692.04 1104.85 Q2692.04 1096.1 2695.1 1091.52 Q2698.17 1086.91 2703.99 1086.91 Z\" fill=\"#000000\" fill-rule=\"nonzero\" fill-opacity=\"1\" /><path clip-path=\"url(#clip810)\" d=\"M1382.12 1161.59 L1382.12 1171.71 L1394.18 1171.71 L1394.18 1176.26 L1382.12 1176.26 L1382.12 1195.61 Q1382.12 1199.97 1383.3 1201.22 Q1384.5 1202.46 1388.16 1202.46 L1394.18 1202.46 L1394.18 1207.36 L1388.16 1207.36 Q1381.39 1207.36 1378.81 1204.84 Q1376.23 1202.3 1376.23 1195.61 L1376.23 1176.26 L1371.93 1176.26 L1371.93 1171.71 L1376.23 1171.71 L1376.23 1161.59 L1382.12 1161.59 Z\" fill=\"#000000\" fill-rule=\"nonzero\" fill-opacity=\"1\" /><path clip-path=\"url(#clip810)\" d=\"M1401.88 1171.71 L1407.74 1171.71 L1407.74 1207.36 L1401.88 1207.36 L1401.88 1171.71 M1401.88 1157.83 L1407.74 1157.83 L1407.74 1165.25 L1401.88 1165.25 L1401.88 1157.83 Z\" fill=\"#000000\" fill-rule=\"nonzero\" fill-opacity=\"1\" /><path clip-path=\"url(#clip810)\" d=\"M1447.75 1178.55 Q1449.94 1174.61 1453 1172.73 Q1456.06 1170.85 1460.19 1170.85 Q1465.76 1170.85 1468.79 1174.77 Q1471.81 1178.65 1471.81 1185.84 L1471.81 1207.36 L1465.92 1207.36 L1465.92 1186.03 Q1465.92 1180.91 1464.11 1178.43 Q1462.29 1175.94 1458.57 1175.94 Q1454.02 1175.94 1451.38 1178.97 Q1448.73 1181.99 1448.73 1187.21 L1448.73 1207.36 L1442.85 1207.36 L1442.85 1186.03 Q1442.85 1180.88 1441.03 1178.43 Q1439.22 1175.94 1435.43 1175.94 Q1430.94 1175.94 1428.3 1179 Q1425.66 1182.02 1425.66 1187.21 L1425.66 1207.36 L1419.77 1207.36 L1419.77 1171.71 L1425.66 1171.71 L1425.66 1177.25 Q1427.66 1173.97 1430.47 1172.41 Q1433.27 1170.85 1437.12 1170.85 Q1441 1170.85 1443.71 1172.82 Q1446.44 1174.8 1447.75 1178.55 Z\" fill=\"#000000\" fill-rule=\"nonzero\" fill-opacity=\"1\" /><path clip-path=\"url(#clip810)\" d=\"M1513.98 1188.07 L1513.98 1190.93 L1487.06 1190.93 Q1487.44 1196.98 1490.68 1200.16 Q1493.96 1203.32 1499.79 1203.32 Q1503.16 1203.32 1506.31 1202.49 Q1509.5 1201.66 1512.61 1200.01 L1512.61 1205.54 Q1509.46 1206.88 1506.15 1207.58 Q1502.84 1208.28 1499.44 1208.28 Q1490.91 1208.28 1485.91 1203.32 Q1480.95 1198.35 1480.95 1189.88 Q1480.95 1181.13 1485.66 1176.01 Q1490.4 1170.85 1498.42 1170.85 Q1505.61 1170.85 1509.78 1175.5 Q1513.98 1180.11 1513.98 1188.07 M1508.13 1186.35 Q1508.06 1181.55 1505.42 1178.68 Q1502.81 1175.82 1498.48 1175.82 Q1493.58 1175.82 1490.62 1178.59 Q1487.69 1181.35 1487.25 1186.38 L1508.13 1186.35 Z\" fill=\"#000000\" fill-rule=\"nonzero\" fill-opacity=\"1\" /><path clip-path=\"url(#clip810)\" d=\"M1543.77 1157.83 L1557.27 1157.83 L1557.27 1162.38 L1549.63 1162.38 L1549.63 1211.4 L1557.27 1211.4 L1557.27 1215.95 L1543.77 1215.95 L1543.77 1157.83 Z\" fill=\"#000000\" fill-rule=\"nonzero\" fill-opacity=\"1\" /><path clip-path=\"url(#clip810)\" d=\"M1592.47 1172.76 L1592.47 1178.3 Q1589.99 1177.03 1587.32 1176.39 Q1584.64 1175.75 1581.78 1175.75 Q1577.42 1175.75 1575.22 1177.09 Q1573.06 1178.43 1573.06 1181.1 Q1573.06 1183.14 1574.62 1184.31 Q1576.18 1185.46 1580.89 1186.51 L1582.89 1186.96 Q1589.13 1188.29 1591.74 1190.74 Q1594.38 1193.16 1594.38 1197.52 Q1594.38 1202.49 1590.44 1205.38 Q1586.52 1208.28 1579.65 1208.28 Q1576.78 1208.28 1573.66 1207.71 Q1570.57 1207.17 1567.14 1206.05 L1567.14 1200.01 Q1570.38 1201.69 1573.53 1202.55 Q1576.69 1203.38 1579.77 1203.38 Q1583.91 1203.38 1586.14 1201.98 Q1588.37 1200.55 1588.37 1197.97 Q1588.37 1195.58 1586.74 1194.31 Q1585.15 1193.04 1579.71 1191.86 L1577.67 1191.38 Q1572.23 1190.23 1569.81 1187.88 Q1567.39 1185.49 1567.39 1181.35 Q1567.39 1176.33 1570.96 1173.59 Q1574.52 1170.85 1581.08 1170.85 Q1584.32 1170.85 1587.19 1171.33 Q1590.05 1171.81 1592.47 1172.76 Z\" fill=\"#000000\" fill-rule=\"nonzero\" fill-opacity=\"1\" /><path clip-path=\"url(#clip810)\" d=\"M1617.39 1157.83 L1617.39 1215.95 L1603.9 1215.95 L1603.9 1211.4 L1611.51 1211.4 L1611.51 1162.38 L1603.9 1162.38 L1603.9 1157.83 L1617.39 1157.83 Z\" fill=\"#000000\" fill-rule=\"nonzero\" fill-opacity=\"1\" /><polyline clip-path=\"url(#clip812)\" style=\"stroke:#000000; stroke-linecap:round; stroke-linejoin:round; stroke-width:2; stroke-opacity:0.1; fill:none\" points=\"236.571,1027.93 2752.76,1027.93 \"/>\n<polyline clip-path=\"url(#clip812)\" style=\"stroke:#000000; stroke-linecap:round; stroke-linejoin:round; stroke-width:2; stroke-opacity:0.1; fill:none\" points=\"236.571,789.9 2752.76,789.9 \"/>\n<polyline clip-path=\"url(#clip812)\" style=\"stroke:#000000; stroke-linecap:round; stroke-linejoin:round; stroke-width:2; stroke-opacity:0.1; fill:none\" points=\"236.571,551.869 2752.76,551.869 \"/>\n<polyline clip-path=\"url(#clip812)\" style=\"stroke:#000000; stroke-linecap:round; stroke-linejoin:round; stroke-width:2; stroke-opacity:0.1; fill:none\" points=\"236.571,313.838 2752.76,313.838 \"/>\n<polyline clip-path=\"url(#clip812)\" style=\"stroke:#000000; stroke-linecap:round; stroke-linejoin:round; stroke-width:2; stroke-opacity:0.1; fill:none\" points=\"236.571,75.8078 2752.76,75.8078 \"/>\n<polyline clip-path=\"url(#clip810)\" style=\"stroke:#000000; stroke-linecap:round; stroke-linejoin:round; stroke-width:4; stroke-opacity:1; fill:none\" points=\"236.571,1056.49 236.571,47.2441 \"/>\n<polyline clip-path=\"url(#clip810)\" style=\"stroke:#000000; stroke-linecap:round; stroke-linejoin:round; stroke-width:4; stroke-opacity:1; fill:none\" points=\"236.571,1027.93 255.468,1027.93 \"/>\n<polyline clip-path=\"url(#clip810)\" style=\"stroke:#000000; stroke-linecap:round; stroke-linejoin:round; stroke-width:4; stroke-opacity:1; fill:none\" points=\"236.571,789.9 255.468,789.9 \"/>\n<polyline clip-path=\"url(#clip810)\" style=\"stroke:#000000; stroke-linecap:round; stroke-linejoin:round; stroke-width:4; stroke-opacity:1; fill:none\" points=\"236.571,551.869 255.468,551.869 \"/>\n<polyline clip-path=\"url(#clip810)\" style=\"stroke:#000000; stroke-linecap:round; stroke-linejoin:round; stroke-width:4; stroke-opacity:1; fill:none\" points=\"236.571,313.838 255.468,313.838 \"/>\n<polyline clip-path=\"url(#clip810)\" style=\"stroke:#000000; stroke-linecap:round; stroke-linejoin:round; stroke-width:4; stroke-opacity:1; fill:none\" points=\"236.571,75.8078 255.468,75.8078 \"/>\n<path clip-path=\"url(#clip810)\" d=\"M107.233 1013.73 Q103.622 1013.73 101.793 1017.29 Q99.9878 1020.84 99.9878 1027.97 Q99.9878 1035.07 101.793 1038.64 Q103.622 1042.18 107.233 1042.18 Q110.867 1042.18 112.673 1038.64 Q114.502 1035.07 114.502 1027.97 Q114.502 1020.84 112.673 1017.29 Q110.867 1013.73 107.233 1013.73 M107.233 1010.03 Q113.043 1010.03 116.099 1014.63 Q119.177 1019.22 119.177 1027.97 Q119.177 1036.69 116.099 1041.3 Q113.043 1045.88 107.233 1045.88 Q101.423 1045.88 98.3443 1041.3 Q95.2887 1036.69 95.2887 1027.97 Q95.2887 1019.22 98.3443 1014.63 Q101.423 1010.03 107.233 1010.03 Z\" fill=\"#000000\" fill-rule=\"nonzero\" fill-opacity=\"1\" /><path clip-path=\"url(#clip810)\" d=\"M127.395 1039.33 L132.279 1039.33 L132.279 1045.21 L127.395 1045.21 L127.395 1039.33 Z\" fill=\"#000000\" fill-rule=\"nonzero\" fill-opacity=\"1\" /><path clip-path=\"url(#clip810)\" d=\"M152.464 1013.73 Q148.853 1013.73 147.025 1017.29 Q145.219 1020.84 145.219 1027.97 Q145.219 1035.07 147.025 1038.64 Q148.853 1042.18 152.464 1042.18 Q156.099 1042.18 157.904 1038.64 Q159.733 1035.07 159.733 1027.97 Q159.733 1020.84 157.904 1017.29 Q156.099 1013.73 152.464 1013.73 M152.464 1010.03 Q158.275 1010.03 161.33 1014.63 Q164.409 1019.22 164.409 1027.97 Q164.409 1036.69 161.33 1041.3 Q158.275 1045.88 152.464 1045.88 Q146.654 1045.88 143.576 1041.3 Q140.52 1036.69 140.52 1027.97 Q140.52 1019.22 143.576 1014.63 Q146.654 1010.03 152.464 1010.03 Z\" fill=\"#000000\" fill-rule=\"nonzero\" fill-opacity=\"1\" /><path clip-path=\"url(#clip810)\" d=\"M182.626 1013.73 Q179.015 1013.73 177.186 1017.29 Q175.381 1020.84 175.381 1027.97 Q175.381 1035.07 177.186 1038.64 Q179.015 1042.18 182.626 1042.18 Q186.26 1042.18 188.066 1038.64 Q189.895 1035.07 189.895 1027.97 Q189.895 1020.84 188.066 1017.29 Q186.26 1013.73 182.626 1013.73 M182.626 1010.03 Q188.436 1010.03 191.492 1014.63 Q194.571 1019.22 194.571 1027.97 Q194.571 1036.69 191.492 1041.3 Q188.436 1045.88 182.626 1045.88 Q176.816 1045.88 173.737 1041.3 Q170.682 1036.69 170.682 1027.97 Q170.682 1019.22 173.737 1014.63 Q176.816 1010.03 182.626 1010.03 Z\" fill=\"#000000\" fill-rule=\"nonzero\" fill-opacity=\"1\" /><path clip-path=\"url(#clip810)\" d=\"M108.228 775.698 Q104.617 775.698 102.789 779.263 Q100.983 782.805 100.983 789.935 Q100.983 797.041 102.789 800.606 Q104.617 804.147 108.228 804.147 Q111.863 804.147 113.668 800.606 Q115.497 797.041 115.497 789.935 Q115.497 782.805 113.668 779.263 Q111.863 775.698 108.228 775.698 M108.228 771.995 Q114.039 771.995 117.094 776.601 Q120.173 781.185 120.173 789.935 Q120.173 798.661 117.094 803.268 Q114.039 807.851 108.228 807.851 Q102.418 807.851 99.3396 803.268 Q96.2841 798.661 96.2841 789.935 Q96.2841 781.185 99.3396 776.601 Q102.418 771.995 108.228 771.995 Z\" fill=\"#000000\" fill-rule=\"nonzero\" fill-opacity=\"1\" /><path clip-path=\"url(#clip810)\" d=\"M128.39 801.3 L133.275 801.3 L133.275 807.18 L128.39 807.18 L128.39 801.3 Z\" fill=\"#000000\" fill-rule=\"nonzero\" fill-opacity=\"1\" /><path clip-path=\"url(#clip810)\" d=\"M147.488 803.245 L163.807 803.245 L163.807 807.18 L141.863 807.18 L141.863 803.245 Q144.525 800.49 149.108 795.86 Q153.714 791.208 154.895 789.865 Q157.14 787.342 158.02 785.606 Q158.923 783.847 158.923 782.157 Q158.923 779.402 156.978 777.666 Q155.057 775.93 151.955 775.93 Q149.756 775.93 147.302 776.694 Q144.872 777.458 142.094 779.009 L142.094 774.286 Q144.918 773.152 147.372 772.573 Q149.825 771.995 151.862 771.995 Q157.233 771.995 160.427 774.68 Q163.622 777.365 163.622 781.856 Q163.622 783.985 162.812 785.907 Q162.024 787.805 159.918 790.397 Q159.339 791.069 156.237 794.286 Q153.136 797.481 147.488 803.245 Z\" fill=\"#000000\" fill-rule=\"nonzero\" fill-opacity=\"1\" /><path clip-path=\"url(#clip810)\" d=\"M173.668 772.62 L192.024 772.62 L192.024 776.555 L177.95 776.555 L177.95 785.027 Q178.969 784.68 179.987 784.518 Q181.006 784.333 182.024 784.333 Q187.811 784.333 191.191 787.504 Q194.571 790.675 194.571 796.092 Q194.571 801.671 191.098 804.772 Q187.626 807.851 181.307 807.851 Q179.131 807.851 176.862 807.481 Q174.617 807.11 172.21 806.37 L172.21 801.671 Q174.293 802.805 176.515 803.36 Q178.737 803.916 181.214 803.916 Q185.219 803.916 187.557 801.809 Q189.895 799.703 189.895 796.092 Q189.895 792.481 187.557 790.374 Q185.219 788.268 181.214 788.268 Q179.339 788.268 177.464 788.685 Q175.612 789.101 173.668 789.981 L173.668 772.62 Z\" fill=\"#000000\" fill-rule=\"nonzero\" fill-opacity=\"1\" /><path clip-path=\"url(#clip810)\" d=\"M107.233 537.668 Q103.622 537.668 101.793 541.233 Q99.9878 544.774 99.9878 551.904 Q99.9878 559.01 101.793 562.575 Q103.622 566.117 107.233 566.117 Q110.867 566.117 112.673 562.575 Q114.502 559.01 114.502 551.904 Q114.502 544.774 112.673 541.233 Q110.867 537.668 107.233 537.668 M107.233 533.964 Q113.043 533.964 116.099 538.571 Q119.177 543.154 119.177 551.904 Q119.177 560.631 116.099 565.237 Q113.043 569.82 107.233 569.82 Q101.423 569.82 98.3443 565.237 Q95.2887 560.631 95.2887 551.904 Q95.2887 543.154 98.3443 538.571 Q101.423 533.964 107.233 533.964 Z\" fill=\"#000000\" fill-rule=\"nonzero\" fill-opacity=\"1\" /><path clip-path=\"url(#clip810)\" d=\"M127.395 563.27 L132.279 563.27 L132.279 569.149 L127.395 569.149 L127.395 563.27 Z\" fill=\"#000000\" fill-rule=\"nonzero\" fill-opacity=\"1\" /><path clip-path=\"url(#clip810)\" d=\"M142.511 534.589 L160.867 534.589 L160.867 538.524 L146.793 538.524 L146.793 546.996 Q147.812 546.649 148.83 546.487 Q149.849 546.302 150.867 546.302 Q156.654 546.302 160.034 549.473 Q163.413 552.645 163.413 558.061 Q163.413 563.64 159.941 566.742 Q156.469 569.82 150.15 569.82 Q147.974 569.82 145.705 569.45 Q143.46 569.08 141.052 568.339 L141.052 563.64 Q143.136 564.774 145.358 565.33 Q147.58 565.885 150.057 565.885 Q154.062 565.885 156.4 563.779 Q158.737 561.672 158.737 558.061 Q158.737 554.45 156.4 552.344 Q154.062 550.237 150.057 550.237 Q148.182 550.237 146.307 550.654 Q144.455 551.071 142.511 551.95 L142.511 534.589 Z\" fill=\"#000000\" fill-rule=\"nonzero\" fill-opacity=\"1\" /><path clip-path=\"url(#clip810)\" d=\"M182.626 537.668 Q179.015 537.668 177.186 541.233 Q175.381 544.774 175.381 551.904 Q175.381 559.01 177.186 562.575 Q179.015 566.117 182.626 566.117 Q186.26 566.117 188.066 562.575 Q189.895 559.01 189.895 551.904 Q189.895 544.774 188.066 541.233 Q186.26 537.668 182.626 537.668 M182.626 533.964 Q188.436 533.964 191.492 538.571 Q194.571 543.154 194.571 551.904 Q194.571 560.631 191.492 565.237 Q188.436 569.82 182.626 569.82 Q176.816 569.82 173.737 565.237 Q170.682 560.631 170.682 551.904 Q170.682 543.154 173.737 538.571 Q176.816 533.964 182.626 533.964 Z\" fill=\"#000000\" fill-rule=\"nonzero\" fill-opacity=\"1\" /><path clip-path=\"url(#clip810)\" d=\"M108.228 299.637 Q104.617 299.637 102.789 303.202 Q100.983 306.744 100.983 313.873 Q100.983 320.98 102.789 324.544 Q104.617 328.086 108.228 328.086 Q111.863 328.086 113.668 324.544 Q115.497 320.98 115.497 313.873 Q115.497 306.744 113.668 303.202 Q111.863 299.637 108.228 299.637 M108.228 295.933 Q114.039 295.933 117.094 300.54 Q120.173 305.123 120.173 313.873 Q120.173 322.6 117.094 327.206 Q114.039 331.79 108.228 331.79 Q102.418 331.79 99.3396 327.206 Q96.2841 322.6 96.2841 313.873 Q96.2841 305.123 99.3396 300.54 Q102.418 295.933 108.228 295.933 Z\" fill=\"#000000\" fill-rule=\"nonzero\" fill-opacity=\"1\" /><path clip-path=\"url(#clip810)\" d=\"M128.39 325.239 L133.275 325.239 L133.275 331.118 L128.39 331.118 L128.39 325.239 Z\" fill=\"#000000\" fill-rule=\"nonzero\" fill-opacity=\"1\" /><path clip-path=\"url(#clip810)\" d=\"M142.279 296.558 L164.501 296.558 L164.501 298.549 L151.955 331.118 L147.071 331.118 L158.876 300.494 L142.279 300.494 L142.279 296.558 Z\" fill=\"#000000\" fill-rule=\"nonzero\" fill-opacity=\"1\" /><path clip-path=\"url(#clip810)\" d=\"M173.668 296.558 L192.024 296.558 L192.024 300.494 L177.95 300.494 L177.95 308.966 Q178.969 308.619 179.987 308.457 Q181.006 308.271 182.024 308.271 Q187.811 308.271 191.191 311.443 Q194.571 314.614 194.571 320.031 Q194.571 325.609 191.098 328.711 Q187.626 331.79 181.307 331.79 Q179.131 331.79 176.862 331.419 Q174.617 331.049 172.21 330.308 L172.21 325.609 Q174.293 326.743 176.515 327.299 Q178.737 327.855 181.214 327.855 Q185.219 327.855 187.557 325.748 Q189.895 323.642 189.895 320.031 Q189.895 316.419 187.557 314.313 Q185.219 312.207 181.214 312.207 Q179.339 312.207 177.464 312.623 Q175.612 313.04 173.668 313.919 L173.668 296.558 Z\" fill=\"#000000\" fill-rule=\"nonzero\" fill-opacity=\"1\" /><path clip-path=\"url(#clip810)\" d=\"M98.0433 89.1526 L105.682 89.1526 L105.682 62.787 L97.3721 64.4537 L97.3721 60.1944 L105.636 58.5278 L110.312 58.5278 L110.312 89.1526 L117.951 89.1526 L117.951 93.0878 L98.0433 93.0878 L98.0433 89.1526 Z\" fill=\"#000000\" fill-rule=\"nonzero\" fill-opacity=\"1\" /><path clip-path=\"url(#clip810)\" d=\"M127.395 87.2082 L132.279 87.2082 L132.279 93.0878 L127.395 93.0878 L127.395 87.2082 Z\" fill=\"#000000\" fill-rule=\"nonzero\" fill-opacity=\"1\" /><path clip-path=\"url(#clip810)\" d=\"M152.464 61.6065 Q148.853 61.6065 147.025 65.1713 Q145.219 68.7129 145.219 75.8425 Q145.219 82.9489 147.025 86.5137 Q148.853 90.0554 152.464 90.0554 Q156.099 90.0554 157.904 86.5137 Q159.733 82.9489 159.733 75.8425 Q159.733 68.7129 157.904 65.1713 Q156.099 61.6065 152.464 61.6065 M152.464 57.9028 Q158.275 57.9028 161.33 62.5092 Q164.409 67.0925 164.409 75.8425 Q164.409 84.5693 161.33 89.1758 Q158.275 93.7591 152.464 93.7591 Q146.654 93.7591 143.576 89.1758 Q140.52 84.5693 140.52 75.8425 Q140.52 67.0925 143.576 62.5092 Q146.654 57.9028 152.464 57.9028 Z\" fill=\"#000000\" fill-rule=\"nonzero\" fill-opacity=\"1\" /><path clip-path=\"url(#clip810)\" d=\"M182.626 61.6065 Q179.015 61.6065 177.186 65.1713 Q175.381 68.7129 175.381 75.8425 Q175.381 82.9489 177.186 86.5137 Q179.015 90.0554 182.626 90.0554 Q186.26 90.0554 188.066 86.5137 Q189.895 82.9489 189.895 75.8425 Q189.895 68.7129 188.066 65.1713 Q186.26 61.6065 182.626 61.6065 M182.626 57.9028 Q188.436 57.9028 191.492 62.5092 Q194.571 67.0925 194.571 75.8425 Q194.571 84.5693 191.492 89.1758 Q188.436 93.7591 182.626 93.7591 Q176.816 93.7591 173.737 89.1758 Q170.682 84.5693 170.682 75.8425 Q170.682 67.0925 173.737 62.5092 Q176.816 57.9028 182.626 57.9028 Z\" fill=\"#000000\" fill-rule=\"nonzero\" fill-opacity=\"1\" /><path clip-path=\"url(#clip810)\" d=\"M42.3429 595.904 Q48.7086 598.387 50.6501 600.742 Q52.5917 603.097 52.5917 607.044 L52.5917 611.723 L47.6901 611.723 L47.6901 608.285 Q47.6901 605.866 46.5443 604.529 Q45.3984 603.193 41.1334 601.569 L38.4598 600.519 L3.38477 614.937 L3.38477 608.731 L31.2666 597.591 L3.38477 586.451 L3.38477 580.244 L42.3429 595.904 Z\" fill=\"#000000\" fill-rule=\"nonzero\" fill-opacity=\"1\" /><path clip-path=\"url(#clip810)\" d=\"M-10.4925 551.981 L-10.4925 538.485 L-5.94099 538.485 L-5.94099 546.124 L43.075 546.124 L43.075 538.485 L47.6264 538.485 L47.6264 551.981 L-10.4925 551.981 Z\" fill=\"#000000\" fill-rule=\"nonzero\" fill-opacity=\"1\" /><path clip-path=\"url(#clip810)\" d=\"M18.567 528.968 L18.567 511.813 L23.7869 511.813 L23.7869 528.968 L18.567 528.968 Z\" fill=\"#000000\" fill-rule=\"nonzero\" fill-opacity=\"1\" /><path clip-path=\"url(#clip810)\" d=\"M-10.4925 488.801 L47.6264 488.801 L47.6264 502.296 L43.075 502.296 L43.075 494.689 L-5.94099 494.689 L-5.94099 502.296 L-10.4925 502.296 L-10.4925 488.801 Z\" fill=\"#000000\" fill-rule=\"nonzero\" fill-opacity=\"1\" /><polyline clip-path=\"url(#clip812)\" style=\"stroke:#009af9; stroke-linecap:round; stroke-linejoin:round; stroke-width:4; stroke-opacity:1; fill:none\" points=\"307.783,1027.93 307.783,1027.93 307.783,1027.93 307.783,75.8078 312.531,75.8078 317.278,75.8078 322.026,75.8078 326.773,75.8078 331.521,75.8078 336.269,75.8078 341.016,75.8078 345.764,75.8078 350.511,75.8078 355.259,75.8078 360.006,75.8078 364.754,75.8078 369.501,75.8078 374.249,75.8078 378.996,75.8078 383.744,75.8078 388.491,75.8078 393.239,75.8078 397.986,75.8078 402.734,75.8078 407.481,75.8078 412.229,75.8078 416.976,75.8078 421.724,75.8078 426.471,75.8078 431.219,75.8078 435.966,75.8078 440.714,75.8078 445.461,75.8078 450.209,75.8078 454.956,75.8078 459.704,75.8078 464.452,75.8078 469.199,75.8078 473.947,75.8078 478.694,75.8078 483.442,75.8078 488.189,75.8078 492.937,75.8078 497.684,75.8078 502.432,75.8078 507.179,75.8078 511.927,75.8078 516.674,75.8078 521.422,75.8078 526.169,75.8078 530.917,75.8078 535.664,75.8078 540.412,75.8078 545.159,75.8078 549.907,75.8078 554.654,75.8078 559.402,75.8078 564.149,75.8078 568.897,75.8078 573.644,75.8078 578.392,75.8078 583.14,75.8078 587.887,75.8078 592.635,75.8078 597.382,75.8078 602.13,75.8078 604.503,75.8078 604.503,1027.93 606.877,1027.93 611.625,1027.93 616.372,1027.93 621.12,1027.93 625.867,1027.93 630.615,1027.93 635.362,1027.93 640.11,1027.93 644.857,1027.93 649.605,1027.93 654.352,1027.93 659.1,1027.93 663.847,1027.93 668.595,1027.93 673.342,1027.93 678.09,1027.93 682.837,1027.93 687.585,1027.93 692.332,1027.93 697.08,1027.93 701.828,1027.93 706.575,1027.93 711.323,1027.93 716.07,1027.93 720.818,1027.93 725.565,1027.93 730.313,1027.93 735.06,1027.93 739.808,1027.93 744.555,1027.93 749.303,1027.93 754.05,1027.93 758.798,1027.93 763.545,1027.93 768.293,1027.93 773.04,1027.93 777.788,1027.93 782.535,1027.93 787.283,1027.93 792.03,1027.93 796.778,1027.93 801.525,1027.93 806.273,1027.93 811.02,1027.93 815.768,1027.93 820.515,1027.93 825.263,1027.93 830.011,1027.93 834.758,1027.93 839.506,1027.93 844.253,1027.93 849.001,1027.93 853.748,1027.93 858.496,1027.93 863.243,1027.93 867.991,1027.93 872.738,1027.93 877.486,1027.93 882.233,1027.93 886.981,1027.93 891.728,1027.93 896.476,1027.93 901.223,1027.93 901.223,1027.93 901.223,75.8078 905.971,75.8078 910.718,75.8078 915.466,75.8078 920.213,75.8078 924.961,75.8078 929.708,75.8078 934.456,75.8078 939.203,75.8078 943.951,75.8078 948.699,75.8078 953.446,75.8078 958.194,75.8078 962.941,75.8078 967.689,75.8078 972.436,75.8078 977.184,75.8078 981.931,75.8078 986.679,75.8078 991.426,75.8078 996.174,75.8078 1000.92,75.8078 1005.67,75.8078 1010.42,75.8078 1015.16,75.8078 1019.91,75.8078 1024.66,75.8078 1029.41,75.8078 1034.15,75.8078 1038.9,75.8078 1043.65,75.8078 1048.4,75.8078 1053.14,75.8078 1057.89,75.8078 1062.64,75.8078 1067.39,75.8078 1072.13,75.8078 1076.88,75.8078 1081.63,75.8078 1086.38,75.8078 1091.12,75.8078 1095.87,75.8078 1100.62,75.8078 1105.37,75.8078 1110.11,75.8078 1114.86,75.8078 1119.61,75.8078 1124.36,75.8078 1129.1,75.8078 1133.85,75.8078 1138.6,75.8078 1143.35,75.8078 1148.09,75.8078 1152.84,75.8078 1157.59,75.8078 1162.34,75.8078 1167.08,75.8078 1171.83,75.8078 1176.58,75.8078 1181.33,75.8078 1186.07,75.8078 1190.82,75.8078 1195.57,75.8078 1197.94,75.8078 1197.94,1027.93 1200.32,1027.93 1205.06,1027.93 1209.81,1027.93 1214.56,1027.93 1219.31,1027.93 1224.05,1027.93 1228.8,1027.93 1233.55,1027.93 1238.3,1027.93 1243.04,1027.93 1247.79,1027.93 1252.54,1027.93 1257.29,1027.93 1262.03,1027.93 1266.78,1027.93 1271.53,1027.93 1276.28,1027.93 1281.02,1027.93 1285.77,1027.93 1290.52,1027.93 1295.27,1027.93 1300.01,1027.93 1304.76,1027.93 1309.51,1027.93 1314.26,1027.93 1319.01,1027.93 1323.75,1027.93 1328.5,1027.93 1333.25,1027.93 1338,1027.93 1342.74,1027.93 1347.49,1027.93 1352.24,1027.93 1356.99,1027.93 1361.73,1027.93 1366.48,1027.93 1371.23,1027.93 1375.98,1027.93 1380.72,1027.93 1385.47,1027.93 1390.22,1027.93 1394.97,1027.93 1399.71,1027.93 1404.46,1027.93 1409.21,1027.93 1413.96,1027.93 1418.7,1027.93 1423.45,1027.93 1428.2,1027.93 1432.95,1027.93 1437.69,1027.93 1442.44,1027.93 1447.19,1027.93 1451.94,1027.93 1456.68,1027.93 1461.43,1027.93 1466.18,1027.93 1470.93,1027.93 1475.67,1027.93 1480.42,1027.93 1485.17,1027.93 1489.92,1027.93 1494.66,1027.93 1494.66,1027.93 1494.66,75.8078 1499.41,75.8078 1504.16,75.8078 1508.91,75.8078 1513.65,75.8078 1518.4,75.8078 1523.15,75.8078 1527.9,75.8078 1532.64,75.8078 1537.39,75.8078 1542.14,75.8078 1546.89,75.8078 1551.63,75.8078 1556.38,75.8078 1561.13,75.8078 1565.88,75.8078 1570.62,75.8078 1575.37,75.8078 1580.12,75.8078 1584.87,75.8078 1589.61,75.8078 1594.36,75.8078 1599.11,75.8078 1603.86,75.8078 1608.6,75.8078 1613.35,75.8078 1618.1,75.8078 1622.85,75.8078 1627.59,75.8078 1632.34,75.8078 1637.09,75.8078 1641.84,75.8078 1646.58,75.8078 1651.33,75.8078 1656.08,75.8078 1660.83,75.8078 1665.57,75.8078 1670.32,75.8078 1675.07,75.8078 1679.82,75.8078 1684.56,75.8078 1689.31,75.8078 1694.06,75.8078 1698.81,75.8078 1703.55,75.8078 1708.3,75.8078 1713.05,75.8078 1717.8,75.8078 1722.54,75.8078 1727.29,75.8078 1732.04,75.8078 1736.79,75.8078 1741.53,75.8078 1746.28,75.8078 1751.03,75.8078 1755.78,75.8078 1760.52,75.8078 1765.27,75.8078 1770.02,75.8078 1774.77,75.8078 1779.51,75.8078 1784.26,75.8078 1789.01,75.8078 1791.38,75.8078 1791.38,1027.93 1793.76,1027.93 1798.5,1027.93 1803.25,1027.93 1808,1027.93 1812.75,1027.93 1817.49,1027.93 1822.24,1027.93 1826.99,1027.93 1831.74,1027.93 1836.48,1027.93 1841.23,1027.93 1845.98,1027.93 1850.73,1027.93 1855.47,1027.93 1860.22,1027.93 1864.97,1027.93 1869.72,1027.93 1874.46,1027.93 1879.21,1027.93 1883.96,1027.93 1888.71,1027.93 1893.45,1027.93 1898.2,1027.93 1902.95,1027.93 1907.7,1027.93 1912.44,1027.93 1917.19,1027.93 1921.94,1027.93 1926.69,1027.93 1931.44,1027.93 1936.18,1027.93 1940.93,1027.93 1945.68,1027.93 1950.43,1027.93 1955.17,1027.93 1959.92,1027.93 1964.67,1027.93 1969.42,1027.93 1974.16,1027.93 1978.91,1027.93 1983.66,1027.93 1988.41,1027.93 1993.15,1027.93 1997.9,1027.93 2002.65,1027.93 2007.4,1027.93 2012.14,1027.93 2016.89,1027.93 2021.64,1027.93 2026.39,1027.93 2031.13,1027.93 2035.88,1027.93 2040.63,1027.93 2045.38,1027.93 2050.12,1027.93 2054.87,1027.93 2059.62,1027.93 2064.37,1027.93 2069.11,1027.93 2073.86,1027.93 2078.61,1027.93 2083.36,1027.93 2088.1,1027.93 2088.1,1027.93 2088.1,75.8078 2092.85,75.8078 2097.6,75.8078 2102.35,75.8078 2107.09,75.8078 2111.84,75.8078 2116.59,75.8078 2121.34,75.8078 2126.08,75.8078 2130.83,75.8078 2135.58,75.8078 2140.33,75.8078 2145.07,75.8078 2149.82,75.8078 2154.57,75.8078 2159.32,75.8078 2164.06,75.8078 2168.81,75.8078 2173.56,75.8078 2178.31,75.8078 2183.05,75.8078 2187.8,75.8078 2192.55,75.8078 2197.3,75.8078 2202.04,75.8078 2206.79,75.8078 2211.54,75.8078 2216.29,75.8078 2221.03,75.8078 2225.78,75.8078 2230.53,75.8078 2235.28,75.8078 2240.02,75.8078 2244.77,75.8078 2249.52,75.8078 2254.27,75.8078 2259.01,75.8078 2263.76,75.8078 2268.51,75.8078 2273.26,75.8078 2278,75.8078 2282.75,75.8078 2287.5,75.8078 2292.25,75.8078 2296.99,75.8078 2301.74,75.8078 2306.49,75.8078 2311.24,75.8078 2315.98,75.8078 2320.73,75.8078 2325.48,75.8078 2330.23,75.8078 2334.97,75.8078 2339.72,75.8078 2344.47,75.8078 2349.22,75.8078 2353.96,75.8078 2358.71,75.8078 2363.46,75.8078 2368.21,75.8078 2372.95,75.8078 2377.7,75.8078 2382.45,75.8078 2384.82,75.8078 2384.82,1027.93 2387.2,1027.93 2391.94,1027.93 2396.69,1027.93 2401.44,1027.93 2406.19,1027.93 2410.93,1027.93 2415.68,1027.93 2420.43,1027.93 2425.18,1027.93 2429.92,1027.93 2434.67,1027.93 2439.42,1027.93 2444.17,1027.93 2448.91,1027.93 2453.66,1027.93 2458.41,1027.93 2463.16,1027.93 2467.9,1027.93 2472.65,1027.93 2477.4,1027.93 2482.15,1027.93 2486.89,1027.93 2491.64,1027.93 2496.39,1027.93 2501.14,1027.93 2505.88,1027.93 2510.63,1027.93 2515.38,1027.93 2520.13,1027.93 2524.87,1027.93 2529.62,1027.93 2534.37,1027.93 2539.12,1027.93 2543.87,1027.93 2548.61,1027.93 2553.36,1027.93 2558.11,1027.93 2562.86,1027.93 2567.6,1027.93 2572.35,1027.93 2577.1,1027.93 2581.85,1027.93 2586.59,1027.93 2591.34,1027.93 2596.09,1027.93 2600.84,1027.93 2605.58,1027.93 2610.33,1027.93 2615.08,1027.93 2619.83,1027.93 2624.57,1027.93 2629.32,1027.93 2634.07,1027.93 2638.82,1027.93 2643.56,1027.93 2648.31,1027.93 2653.06,1027.93 2657.81,1027.93 2662.55,1027.93 2667.3,1027.93 2672.05,1027.93 2676.8,1027.93 2681.54,1027.93 \"/>\n</svg>\n"
               },
               "type": "node"
              }
             ],
             "instanceArgs": {
              "namespace": "html",
              "tag": "div"
             },
             "nodeType": "DOM",
             "props": {
              "className": "interact-flex-row interact-widget"
             },
             "type": "node"
            }
           }
          },
          "systemjs_options": null
         },
         "nodeType": "Scope",
         "props": {},
         "type": "node"
        }
       ],
       "instanceArgs": {
        "namespace": "html",
        "tag": "div"
       },
       "nodeType": "DOM",
       "props": {},
       "type": "node"
      },
      "text/html": [
       "<div\n",
       "    class=\"webio-mountpoint\"\n",
       "    data-webio-mountpoint=\"10893514110283243763\"\n",
       ">\n",
       "    <script>\n",
       "    (function(){\n",
       "    // Some integrations (namely, IJulia/Jupyter) use an alternate render pathway than\n",
       "    // just putting the html on the page. If WebIO isn't defined, then it's pretty likely\n",
       "    // that we're in one of those situations and the integration just isn't installed\n",
       "    // correctly.\n",
       "    if (typeof window.WebIO === \"undefined\") {\n",
       "        document\n",
       "            .querySelector('[data-webio-mountpoint=\"10893514110283243763\"]')\n",
       "            .innerHTML = (\n",
       "                '<div style=\"padding: 1em; background-color: #f8d6da; border: 1px solid #f5c6cb; font-weight: bold;\">' +\n",
       "                '<p><strong>WebIO not detected.</strong></p>' +\n",
       "                '<p>Please read ' +\n",
       "                '<a href=\"https://juliagizmos.github.io/WebIO.jl/latest/troubleshooting/not-detected/\" target=\"_blank\">the troubleshooting guide</a> ' +\n",
       "                'for more information on how to resolve this issue.</p>' +\n",
       "                '<p><a href=\"https://juliagizmos.github.io/WebIO.jl/latest/troubleshooting/not-detected/\" target=\"_blank\">https://juliagizmos.github.io/WebIO.jl/latest/troubleshooting/not-detected/</a></p>' +\n",
       "                '</div>'\n",
       "            );\n",
       "        return;\n",
       "    }\n",
       "    WebIO.mount(\n",
       "        document.querySelector('[data-webio-mountpoint=\"10893514110283243763\"]'),\n",
       "        {\"props\":{},\"nodeType\":\"DOM\",\"type\":\"node\",\"instanceArgs\":{\"namespace\":\"html\",\"tag\":\"div\"},\"children\":[{\"props\":{\"className\":\"field interact-widget\"},\"nodeType\":\"DOM\",\"type\":\"node\",\"instanceArgs\":{\"namespace\":\"html\",\"tag\":\"div\"},\"children\":[{\"props\":{},\"nodeType\":\"Scope\",\"type\":\"node\",\"instanceArgs\":{\"imports\":{\"data\":[{\"name\":\"knockout\",\"type\":\"js\",\"url\":\"\\/assetserver\\/7131c77e135a4750f5f3b40f55e738d738110c3c-knockout.js\"},{\"name\":\"knockout_punches\",\"type\":\"js\",\"url\":\"\\/assetserver\\/6c7b4fe9879ab54653878e13a149e67913cebca5-knockout_punches.js\"},{\"name\":null,\"type\":\"js\",\"url\":\"\\/assetserver\\/991344467de79b07324668eaf744d1360c6f386d-all.js\"},{\"name\":null,\"type\":\"css\",\"url\":\"\\/assetserver\\/c5d0f93d59f1e261e7cdbac3d3917d9cdd19fa1a-style.css\"},{\"name\":null,\"type\":\"css\",\"url\":\"\\/assetserver\\/bc6416a0ee63fe13520cdc40c1b644b0e4fd93e9-bulma_confined.min.css\"}],\"type\":\"async_block\"},\"id\":\"432128499611573934\",\"handlers\":{\"changes\":[\"(function (val){return (val!=this.model[\\\"changes\\\"]()) ? (this.valueFromJulia[\\\"changes\\\"]=true, this.model[\\\"changes\\\"](val)) : undefined})\"],\"index\":[\"(function (val){return (val!=this.model[\\\"index\\\"]()) ? (this.valueFromJulia[\\\"index\\\"]=true, this.model[\\\"index\\\"](val)) : undefined})\"]},\"systemjs_options\":null,\"mount_callbacks\":[\"function () {\\n    var handler = (function (ko, koPunches) {\\n    ko.punches.enableAll();\\n    ko.bindingHandlers.numericValue = {\\n        init: function(element, valueAccessor, allBindings, data, context) {\\n            var stringified = ko.observable(ko.unwrap(valueAccessor()));\\n            stringified.subscribe(function(value) {\\n                var val = parseFloat(value);\\n                if (!isNaN(val)) {\\n                    valueAccessor()(val);\\n                }\\n            });\\n            valueAccessor().subscribe(function(value) {\\n                var str = JSON.stringify(value);\\n                if ((str == \\\"0\\\") && ([\\\"-0\\\", \\\"-0.\\\"].indexOf(stringified()) >= 0))\\n                     return;\\n                 if ([\\\"null\\\", \\\"\\\"].indexOf(str) >= 0)\\n                     return;\\n                stringified(str);\\n            });\\n            ko.applyBindingsToNode(\\n                element,\\n                {\\n                    value: stringified,\\n                    valueUpdate: allBindings.get('valueUpdate'),\\n                },\\n                context,\\n            );\\n        }\\n    };\\n    var json_data = {\\\"formatted_vals\\\":[\\\"0.05\\\",\\\"0.1\\\",\\\"0.15\\\",\\\"0.2\\\",\\\"0.25\\\",\\\"0.3\\\",\\\"0.35\\\",\\\"0.4\\\",\\\"0.45\\\",\\\"0.5\\\",\\\"0.55\\\",\\\"0.6\\\",\\\"0.65\\\",\\\"0.7\\\",\\\"0.75\\\",\\\"0.8\\\",\\\"0.85\\\",\\\"0.9\\\",\\\"0.95\\\"],\\\"changes\\\":WebIO.getval({\\\"name\\\":\\\"changes\\\",\\\"scope\\\":\\\"432128499611573934\\\",\\\"id\\\":\\\"2121852769789286285\\\",\\\"type\\\":\\\"observable\\\"}),\\\"index\\\":WebIO.getval({\\\"name\\\":\\\"index\\\",\\\"scope\\\":\\\"432128499611573934\\\",\\\"id\\\":\\\"4466760699861735115\\\",\\\"type\\\":\\\"observable\\\"})};\\n    var self = this;\\n    function AppViewModel() {\\n        for (var key in json_data) {\\n            var el = json_data[key];\\n            this[key] = Array.isArray(el) ? ko.observableArray(el) : ko.observable(el);\\n        }\\n        \\n        [this[\\\"formatted_val\\\"]=ko.computed(    function(){\\n        return this.formatted_vals()[parseInt(this.index())-(1)];\\n    }\\n,this)]\\n        [this[\\\"changes\\\"].subscribe((function (val){!(this.valueFromJulia[\\\"changes\\\"]) ? (WebIO.setval({\\\"name\\\":\\\"changes\\\",\\\"scope\\\":\\\"432128499611573934\\\",\\\"id\\\":\\\"2121852769789286285\\\",\\\"type\\\":\\\"observable\\\"},val)) : undefined; return this.valueFromJulia[\\\"changes\\\"]=false}),self),this[\\\"index\\\"].subscribe((function (val){!(this.valueFromJulia[\\\"index\\\"]) ? (WebIO.setval({\\\"name\\\":\\\"index\\\",\\\"scope\\\":\\\"432128499611573934\\\",\\\"id\\\":\\\"4466760699861735115\\\",\\\"type\\\":\\\"observable\\\"},val)) : undefined; return this.valueFromJulia[\\\"index\\\"]=false}),self)]\\n        \\n    }\\n    self.model = new AppViewModel();\\n    self.valueFromJulia = {};\\n    for (var key in json_data) {\\n        self.valueFromJulia[key] = false;\\n    }\\n    ko.applyBindings(self.model, self.dom);\\n}\\n);\\n    (WebIO.importBlock({\\\"data\\\":[{\\\"name\\\":\\\"knockout\\\",\\\"type\\\":\\\"js\\\",\\\"url\\\":\\\"\\/assetserver\\/7131c77e135a4750f5f3b40f55e738d738110c3c-knockout.js\\\"},{\\\"name\\\":\\\"knockout_punches\\\",\\\"type\\\":\\\"js\\\",\\\"url\\\":\\\"\\/assetserver\\/6c7b4fe9879ab54653878e13a149e67913cebca5-knockout_punches.js\\\"}],\\\"type\\\":\\\"async_block\\\"})).then((imports) => handler.apply(this, imports));\\n}\\n\"],\"observables\":{\"changes\":{\"sync\":false,\"id\":\"2121852769789286285\",\"value\":0},\"index\":{\"sync\":true,\"id\":\"4466760699861735115\",\"value\":10}}},\"children\":[{\"props\":{\"className\":\"interact-flex-row interact-widget\"},\"nodeType\":\"DOM\",\"type\":\"node\",\"instanceArgs\":{\"namespace\":\"html\",\"tag\":\"div\"},\"children\":[{\"props\":{\"className\":\"interact-flex-row-left\"},\"nodeType\":\"DOM\",\"type\":\"node\",\"instanceArgs\":{\"namespace\":\"html\",\"tag\":\"div\"},\"children\":[{\"props\":{\"className\":\"interact \",\"style\":{\"padding\":\"5px 10px 0px 10px\"}},\"nodeType\":\"DOM\",\"type\":\"node\",\"instanceArgs\":{\"namespace\":\"html\",\"tag\":\"label\"},\"children\":[\"dutyCycle\"]}]},{\"props\":{\"className\":\"interact-flex-row-center\"},\"nodeType\":\"DOM\",\"type\":\"node\",\"instanceArgs\":{\"namespace\":\"html\",\"tag\":\"div\"},\"children\":[{\"props\":{\"max\":19,\"min\":1,\"attributes\":{\"type\":\"range\",\"data-bind\":\"numericValue: index, valueUpdate: 'input', event: {change: function (){this.changes(this.changes()+1)}}\",\"orient\":\"horizontal\"},\"step\":1,\"className\":\"slider slider is-fullwidth\",\"style\":{}},\"nodeType\":\"DOM\",\"type\":\"node\",\"instanceArgs\":{\"namespace\":\"html\",\"tag\":\"input\"},\"children\":[]}]},{\"props\":{\"className\":\"interact-flex-row-right\"},\"nodeType\":\"DOM\",\"type\":\"node\",\"instanceArgs\":{\"namespace\":\"html\",\"tag\":\"div\"},\"children\":[{\"props\":{\"attributes\":{\"data-bind\":\"text: formatted_val\"}},\"nodeType\":\"DOM\",\"type\":\"node\",\"instanceArgs\":{\"namespace\":\"html\",\"tag\":\"p\"},\"children\":[]}]}]}]}]},{\"props\":{\"className\":\"field interact-widget\"},\"nodeType\":\"DOM\",\"type\":\"node\",\"instanceArgs\":{\"namespace\":\"html\",\"tag\":\"div\"},\"children\":[{\"props\":{},\"nodeType\":\"Scope\",\"type\":\"node\",\"instanceArgs\":{\"imports\":{\"data\":[{\"name\":\"knockout\",\"type\":\"js\",\"url\":\"\\/assetserver\\/7131c77e135a4750f5f3b40f55e738d738110c3c-knockout.js\"},{\"name\":\"knockout_punches\",\"type\":\"js\",\"url\":\"\\/assetserver\\/6c7b4fe9879ab54653878e13a149e67913cebca5-knockout_punches.js\"},{\"name\":null,\"type\":\"js\",\"url\":\"\\/assetserver\\/991344467de79b07324668eaf744d1360c6f386d-all.js\"},{\"name\":null,\"type\":\"css\",\"url\":\"\\/assetserver\\/c5d0f93d59f1e261e7cdbac3d3917d9cdd19fa1a-style.css\"},{\"name\":null,\"type\":\"css\",\"url\":\"\\/assetserver\\/bc6416a0ee63fe13520cdc40c1b644b0e4fd93e9-bulma_confined.min.css\"}],\"type\":\"async_block\"},\"id\":\"11206522371445265560\",\"handlers\":{\"changes\":[\"(function (val){return (val!=this.model[\\\"changes\\\"]()) ? (this.valueFromJulia[\\\"changes\\\"]=true, this.model[\\\"changes\\\"](val)) : undefined})\"],\"index\":[\"(function (val){return (val!=this.model[\\\"index\\\"]()) ? (this.valueFromJulia[\\\"index\\\"]=true, this.model[\\\"index\\\"](val)) : undefined})\"]},\"systemjs_options\":null,\"mount_callbacks\":[\"function () {\\n    var handler = (function (ko, koPunches) {\\n    ko.punches.enableAll();\\n    ko.bindingHandlers.numericValue = {\\n        init: function(element, valueAccessor, allBindings, data, context) {\\n            var stringified = ko.observable(ko.unwrap(valueAccessor()));\\n            stringified.subscribe(function(value) {\\n                var val = parseFloat(value);\\n                if (!isNaN(val)) {\\n                    valueAccessor()(val);\\n                }\\n            });\\n            valueAccessor().subscribe(function(value) {\\n                var str = JSON.stringify(value);\\n                if ((str == \\\"0\\\") && ([\\\"-0\\\", \\\"-0.\\\"].indexOf(stringified()) >= 0))\\n                     return;\\n                 if ([\\\"null\\\", \\\"\\\"].indexOf(str) >= 0)\\n                     return;\\n                stringified(str);\\n            });\\n            ko.applyBindingsToNode(\\n                element,\\n                {\\n                    value: stringified,\\n                    valueUpdate: allBindings.get('valueUpdate'),\\n                },\\n                context,\\n            );\\n        }\\n    };\\n    var json_data = {\\\"formatted_vals\\\":[\\\"0.1\\\",\\\"0.2\\\",\\\"0.3\\\",\\\"0.4\\\",\\\"0.5\\\",\\\"0.6\\\",\\\"0.7\\\",\\\"0.8\\\",\\\"0.9\\\",\\\"1.0\\\"],\\\"changes\\\":WebIO.getval({\\\"name\\\":\\\"changes\\\",\\\"scope\\\":\\\"11206522371445265560\\\",\\\"id\\\":\\\"5102294256921586576\\\",\\\"type\\\":\\\"observable\\\"}),\\\"index\\\":WebIO.getval({\\\"name\\\":\\\"index\\\",\\\"scope\\\":\\\"11206522371445265560\\\",\\\"id\\\":\\\"3196743261812157359\\\",\\\"type\\\":\\\"observable\\\"})};\\n    var self = this;\\n    function AppViewModel() {\\n        for (var key in json_data) {\\n            var el = json_data[key];\\n            this[key] = Array.isArray(el) ? ko.observableArray(el) : ko.observable(el);\\n        }\\n        \\n        [this[\\\"formatted_val\\\"]=ko.computed(    function(){\\n        return this.formatted_vals()[parseInt(this.index())-(1)];\\n    }\\n,this)]\\n        [this[\\\"changes\\\"].subscribe((function (val){!(this.valueFromJulia[\\\"changes\\\"]) ? (WebIO.setval({\\\"name\\\":\\\"changes\\\",\\\"scope\\\":\\\"11206522371445265560\\\",\\\"id\\\":\\\"5102294256921586576\\\",\\\"type\\\":\\\"observable\\\"},val)) : undefined; return this.valueFromJulia[\\\"changes\\\"]=false}),self),this[\\\"index\\\"].subscribe((function (val){!(this.valueFromJulia[\\\"index\\\"]) ? (WebIO.setval({\\\"name\\\":\\\"index\\\",\\\"scope\\\":\\\"11206522371445265560\\\",\\\"id\\\":\\\"3196743261812157359\\\",\\\"type\\\":\\\"observable\\\"},val)) : undefined; return this.valueFromJulia[\\\"index\\\"]=false}),self)]\\n        \\n    }\\n    self.model = new AppViewModel();\\n    self.valueFromJulia = {};\\n    for (var key in json_data) {\\n        self.valueFromJulia[key] = false;\\n    }\\n    ko.applyBindings(self.model, self.dom);\\n}\\n);\\n    (WebIO.importBlock({\\\"data\\\":[{\\\"name\\\":\\\"knockout\\\",\\\"type\\\":\\\"js\\\",\\\"url\\\":\\\"\\/assetserver\\/7131c77e135a4750f5f3b40f55e738d738110c3c-knockout.js\\\"},{\\\"name\\\":\\\"knockout_punches\\\",\\\"type\\\":\\\"js\\\",\\\"url\\\":\\\"\\/assetserver\\/6c7b4fe9879ab54653878e13a149e67913cebca5-knockout_punches.js\\\"}],\\\"type\\\":\\\"async_block\\\"})).then((imports) => handler.apply(this, imports));\\n}\\n\"],\"observables\":{\"changes\":{\"sync\":false,\"id\":\"5102294256921586576\",\"value\":0},\"index\":{\"sync\":true,\"id\":\"3196743261812157359\",\"value\":5}}},\"children\":[{\"props\":{\"className\":\"interact-flex-row interact-widget\"},\"nodeType\":\"DOM\",\"type\":\"node\",\"instanceArgs\":{\"namespace\":\"html\",\"tag\":\"div\"},\"children\":[{\"props\":{\"className\":\"interact-flex-row-left\"},\"nodeType\":\"DOM\",\"type\":\"node\",\"instanceArgs\":{\"namespace\":\"html\",\"tag\":\"div\"},\"children\":[{\"props\":{\"className\":\"interact \",\"style\":{\"padding\":\"5px 10px 0px 10px\"}},\"nodeType\":\"DOM\",\"type\":\"node\",\"instanceArgs\":{\"namespace\":\"html\",\"tag\":\"label\"},\"children\":[\"periodTime\"]}]},{\"props\":{\"className\":\"interact-flex-row-center\"},\"nodeType\":\"DOM\",\"type\":\"node\",\"instanceArgs\":{\"namespace\":\"html\",\"tag\":\"div\"},\"children\":[{\"props\":{\"max\":10,\"min\":1,\"attributes\":{\"type\":\"range\",\"data-bind\":\"numericValue: index, valueUpdate: 'input', event: {change: function (){this.changes(this.changes()+1)}}\",\"orient\":\"horizontal\"},\"step\":1,\"className\":\"slider slider is-fullwidth\",\"style\":{}},\"nodeType\":\"DOM\",\"type\":\"node\",\"instanceArgs\":{\"namespace\":\"html\",\"tag\":\"input\"},\"children\":[]}]},{\"props\":{\"className\":\"interact-flex-row-right\"},\"nodeType\":\"DOM\",\"type\":\"node\",\"instanceArgs\":{\"namespace\":\"html\",\"tag\":\"div\"},\"children\":[{\"props\":{\"attributes\":{\"data-bind\":\"text: formatted_val\"}},\"nodeType\":\"DOM\",\"type\":\"node\",\"instanceArgs\":{\"namespace\":\"html\",\"tag\":\"p\"},\"children\":[]}]}]}]}]},{\"props\":{},\"nodeType\":\"Scope\",\"type\":\"node\",\"instanceArgs\":{\"imports\":{\"data\":[],\"type\":\"async_block\"},\"id\":\"10733767388126020966\",\"handlers\":{},\"systemjs_options\":null,\"mount_callbacks\":[],\"observables\":{\"obs-node\":{\"sync\":false,\"id\":\"17556272540657276945\",\"value\":{\"props\":{\"className\":\"interact-flex-row interact-widget\"},\"nodeType\":\"DOM\",\"type\":\"node\",\"instanceArgs\":{\"namespace\":\"html\",\"tag\":\"div\"},\"children\":[{\"props\":{\"setInnerHtml\":\"<?xml version=\\\"1.0\\\" encoding=\\\"utf-8\\\"?>\\n<svg xmlns=\\\"http:\\/\\/www.w3.org\\/2000\\/svg\\\" xmlns:xlink=\\\"http:\\/\\/www.w3.org\\/1999\\/xlink\\\" width=\\\"700\\\" height=\\\"300\\\" viewBox=\\\"0 0 2800 1200\\\">\\n<defs>\\n  <clipPath id=\\\"clip770\\\">\\n    <rect x=\\\"0\\\" y=\\\"0\\\" width=\\\"2800\\\" height=\\\"1200\\\"\\/>\\n  <\\/clipPath>\\n<\\/defs>\\n<path clip-path=\\\"url(#clip770)\\\" d=\\\"M0 1200 L2800 1200 L2800 0 L0 0  Z\\\" fill=\\\"#ffffff\\\" fill-rule=\\\"evenodd\\\" fill-opacity=\\\"1\\\"\\/>\\n<defs>\\n  <clipPath id=\\\"clip771\\\">\\n    <rect x=\\\"560\\\" y=\\\"0\\\" width=\\\"1961\\\" height=\\\"1200\\\"\\/>\\n  <\\/clipPath>\\n<\\/defs>\\n<path clip-path=\\\"url(#clip770)\\\" d=\\\"M236.571 1056.49 L2752.76 1056.49 L2752.76 47.2441 L236.571 47.2441  Z\\\" fill=\\\"#ffffff\\\" fill-rule=\\\"evenodd\\\" fill-opacity=\\\"1\\\"\\/>\\n<defs>\\n  <clipPath id=\\\"clip772\\\">\\n    <rect x=\\\"236\\\" y=\\\"47\\\" width=\\\"2517\\\" height=\\\"1010\\\"\\/>\\n  <\\/clipPath>\\n<\\/defs>\\n<polyline clip-path=\\\"url(#clip772)\\\" style=\\\"stroke:#000000; stroke-linecap:round; stroke-linejoin:round; stroke-width:2; stroke-opacity:0.1; fill:none\\\" points=\\\"307.783,1056.49 307.783,47.2441 \\\"\\/>\\n<polyline clip-path=\\\"url(#clip772)\\\" style=\\\"stroke:#000000; stroke-linecap:round; stroke-linejoin:round; stroke-width:2; stroke-opacity:0.1; fill:none\\\" points=\\\"901.223,1056.49 901.223,47.2441 \\\"\\/>\\n<polyline clip-path=\\\"url(#clip772)\\\" style=\\\"stroke:#000000; stroke-linecap:round; stroke-linejoin:round; stroke-width:2; stroke-opacity:0.1; fill:none\\\" points=\\\"1494.66,1056.49 1494.66,47.2441 \\\"\\/>\\n<polyline clip-path=\\\"url(#clip772)\\\" style=\\\"stroke:#000000; stroke-linecap:round; stroke-linejoin:round; stroke-width:2; stroke-opacity:0.1; fill:none\\\" points=\\\"2088.1,1056.49 2088.1,47.2441 \\\"\\/>\\n<polyline clip-path=\\\"url(#clip772)\\\" style=\\\"stroke:#000000; stroke-linecap:round; stroke-linejoin:round; stroke-width:2; stroke-opacity:0.1; fill:none\\\" points=\\\"2681.54,1056.49 2681.54,47.2441 \\\"\\/>\\n<polyline clip-path=\\\"url(#clip770)\\\" style=\\\"stroke:#000000; stroke-linecap:round; stroke-linejoin:round; stroke-width:4; stroke-opacity:1; fill:none\\\" points=\\\"236.571,1056.49 2752.76,1056.49 \\\"\\/>\\n<polyline clip-path=\\\"url(#clip770)\\\" style=\\\"stroke:#000000; stroke-linecap:round; stroke-linejoin:round; stroke-width:4; stroke-opacity:1; fill:none\\\" points=\\\"307.783,1056.49 307.783,1037.6 \\\"\\/>\\n<polyline clip-path=\\\"url(#clip770)\\\" style=\\\"stroke:#000000; stroke-linecap:round; stroke-linejoin:round; stroke-width:4; stroke-opacity:1; fill:none\\\" points=\\\"901.223,1056.49 901.223,1037.6 \\\"\\/>\\n<polyline clip-path=\\\"url(#clip770)\\\" style=\\\"stroke:#000000; stroke-linecap:round; stroke-linejoin:round; stroke-width:4; stroke-opacity:1; fill:none\\\" points=\\\"1494.66,1056.49 1494.66,1037.6 \\\"\\/>\\n<polyline clip-path=\\\"url(#clip770)\\\" style=\\\"stroke:#000000; stroke-linecap:round; stroke-linejoin:round; stroke-width:4; stroke-opacity:1; fill:none\\\" points=\\\"2088.1,1056.49 2088.1,1037.6 \\\"\\/>\\n<polyline clip-path=\\\"url(#clip770)\\\" style=\\\"stroke:#000000; stroke-linecap:round; stroke-linejoin:round; stroke-width:4; stroke-opacity:1; fill:none\\\" points=\\\"2681.54,1056.49 2681.54,1037.6 \\\"\\/>\\n<path clip-path=\\\"url(#clip770)\\\" d=\\\"M285.168 1090.61 Q281.557 1090.61 279.728 1094.18 Q277.922 1097.72 277.922 1104.85 Q277.922 1111.96 279.728 1115.52 Q281.557 1119.06 285.168 1119.06 Q288.802 1119.06 290.608 1115.52 Q292.436 1111.96 292.436 1104.85 Q292.436 1097.72 290.608 1094.18 Q288.802 1090.61 285.168 1090.61 M285.168 1086.91 Q290.978 1086.91 294.033 1091.52 Q297.112 1096.1 297.112 1104.85 Q297.112 1113.58 294.033 1118.18 Q290.978 1122.77 285.168 1122.77 Q279.358 1122.77 276.279 1118.18 Q273.223 1113.58 273.223 1104.85 Q273.223 1096.1 276.279 1091.52 Q279.358 1086.91 285.168 1086.91 Z\\\" fill=\\\"#000000\\\" fill-rule=\\\"nonzero\\\" fill-opacity=\\\"1\\\" \\/><path clip-path=\\\"url(#clip770)\\\" d=\\\"M305.33 1116.21 L310.214 1116.21 L310.214 1122.09 L305.33 1122.09 L305.33 1116.21 Z\\\" fill=\\\"#000000\\\" fill-rule=\\\"nonzero\\\" fill-opacity=\\\"1\\\" \\/><path clip-path=\\\"url(#clip770)\\\" d=\\\"M330.399 1090.61 Q326.788 1090.61 324.959 1094.18 Q323.154 1097.72 323.154 1104.85 Q323.154 1111.96 324.959 1115.52 Q326.788 1119.06 330.399 1119.06 Q334.033 1119.06 335.839 1115.52 Q337.667 1111.96 337.667 1104.85 Q337.667 1097.72 335.839 1094.18 Q334.033 1090.61 330.399 1090.61 M330.399 1086.91 Q336.209 1086.91 339.265 1091.52 Q342.343 1096.1 342.343 1104.85 Q342.343 1113.58 339.265 1118.18 Q336.209 1122.77 330.399 1122.77 Q324.589 1122.77 321.51 1118.18 Q318.455 1113.58 318.455 1104.85 Q318.455 1096.1 321.51 1091.52 Q324.589 1086.91 330.399 1086.91 Z\\\" fill=\\\"#000000\\\" fill-rule=\\\"nonzero\\\" fill-opacity=\\\"1\\\" \\/><path clip-path=\\\"url(#clip770)\\\" d=\\\"M879.105 1090.61 Q875.494 1090.61 873.666 1094.18 Q871.86 1097.72 871.86 1104.85 Q871.86 1111.96 873.666 1115.52 Q875.494 1119.06 879.105 1119.06 Q882.74 1119.06 884.545 1115.52 Q886.374 1111.96 886.374 1104.85 Q886.374 1097.72 884.545 1094.18 Q882.74 1090.61 879.105 1090.61 M879.105 1086.91 Q884.916 1086.91 887.971 1091.52 Q891.05 1096.1 891.05 1104.85 Q891.05 1113.58 887.971 1118.18 Q884.916 1122.77 879.105 1122.77 Q873.295 1122.77 870.217 1118.18 Q867.161 1113.58 867.161 1104.85 Q867.161 1096.1 870.217 1091.52 Q873.295 1086.91 879.105 1086.91 Z\\\" fill=\\\"#000000\\\" fill-rule=\\\"nonzero\\\" fill-opacity=\\\"1\\\" \\/><path clip-path=\\\"url(#clip770)\\\" d=\\\"M899.267 1116.21 L904.152 1116.21 L904.152 1122.09 L899.267 1122.09 L899.267 1116.21 Z\\\" fill=\\\"#000000\\\" fill-rule=\\\"nonzero\\\" fill-opacity=\\\"1\\\" \\/><path clip-path=\\\"url(#clip770)\\\" d=\\\"M914.383 1087.53 L932.739 1087.53 L932.739 1091.47 L918.665 1091.47 L918.665 1099.94 Q919.684 1099.59 920.702 1099.43 Q921.721 1099.25 922.739 1099.25 Q928.526 1099.25 931.906 1102.42 Q935.286 1105.59 935.286 1111.01 Q935.286 1116.58 931.813 1119.69 Q928.341 1122.77 922.022 1122.77 Q919.846 1122.77 917.577 1122.4 Q915.332 1122.02 912.925 1121.28 L912.925 1116.58 Q915.008 1117.72 917.23 1118.27 Q919.452 1118.83 921.929 1118.83 Q925.934 1118.83 928.272 1116.72 Q930.61 1114.62 930.61 1111.01 Q930.61 1107.4 928.272 1105.29 Q925.934 1103.18 921.929 1103.18 Q920.054 1103.18 918.179 1103.6 Q916.327 1104.02 914.383 1104.9 L914.383 1087.53 Z\\\" fill=\\\"#000000\\\" fill-rule=\\\"nonzero\\\" fill-opacity=\\\"1\\\" \\/><path clip-path=\\\"url(#clip770)\\\" d=\\\"M1461.82 1118.16 L1469.46 1118.16 L1469.46 1091.79 L1461.14 1093.46 L1461.14 1089.2 L1469.41 1087.53 L1474.08 1087.53 L1474.08 1118.16 L1481.72 1118.16 L1481.72 1122.09 L1461.82 1122.09 L1461.82 1118.16 Z\\\" fill=\\\"#000000\\\" fill-rule=\\\"nonzero\\\" fill-opacity=\\\"1\\\" \\/><path clip-path=\\\"url(#clip770)\\\" d=\\\"M1491.17 1116.21 L1496.05 1116.21 L1496.05 1122.09 L1491.17 1122.09 L1491.17 1116.21 Z\\\" fill=\\\"#000000\\\" fill-rule=\\\"nonzero\\\" fill-opacity=\\\"1\\\" \\/><path clip-path=\\\"url(#clip770)\\\" d=\\\"M1516.24 1090.61 Q1512.63 1090.61 1510.8 1094.18 Q1508.99 1097.72 1508.99 1104.85 Q1508.99 1111.96 1510.8 1115.52 Q1512.63 1119.06 1516.24 1119.06 Q1519.87 1119.06 1521.68 1115.52 Q1523.51 1111.96 1523.51 1104.85 Q1523.51 1097.72 1521.68 1094.18 Q1519.87 1090.61 1516.24 1090.61 M1516.24 1086.91 Q1522.05 1086.91 1525.1 1091.52 Q1528.18 1096.1 1528.18 1104.85 Q1528.18 1113.58 1525.1 1118.18 Q1522.05 1122.77 1516.24 1122.77 Q1510.43 1122.77 1507.35 1118.18 Q1504.29 1113.58 1504.29 1104.85 Q1504.29 1096.1 1507.35 1091.52 Q1510.43 1086.91 1516.24 1086.91 Z\\\" fill=\\\"#000000\\\" fill-rule=\\\"nonzero\\\" fill-opacity=\\\"1\\\" \\/><path clip-path=\\\"url(#clip770)\\\" d=\\\"M2055.75 1118.16 L2063.39 1118.16 L2063.39 1091.79 L2055.08 1093.46 L2055.08 1089.2 L2063.35 1087.53 L2068.02 1087.53 L2068.02 1118.16 L2075.66 1118.16 L2075.66 1122.09 L2055.75 1122.09 L2055.75 1118.16 Z\\\" fill=\\\"#000000\\\" fill-rule=\\\"nonzero\\\" fill-opacity=\\\"1\\\" \\/><path clip-path=\\\"url(#clip770)\\\" d=\\\"M2085.11 1116.21 L2089.99 1116.21 L2089.99 1122.09 L2085.11 1122.09 L2085.11 1116.21 Z\\\" fill=\\\"#000000\\\" fill-rule=\\\"nonzero\\\" fill-opacity=\\\"1\\\" \\/><path clip-path=\\\"url(#clip770)\\\" d=\\\"M2100.22 1087.53 L2118.58 1087.53 L2118.58 1091.47 L2104.5 1091.47 L2104.5 1099.94 Q2105.52 1099.59 2106.54 1099.43 Q2107.56 1099.25 2108.58 1099.25 Q2114.36 1099.25 2117.74 1102.42 Q2121.12 1105.59 2121.12 1111.01 Q2121.12 1116.58 2117.65 1119.69 Q2114.18 1122.77 2107.86 1122.77 Q2105.68 1122.77 2103.42 1122.4 Q2101.17 1122.02 2098.76 1121.28 L2098.76 1116.58 Q2100.85 1117.72 2103.07 1118.27 Q2105.29 1118.83 2107.77 1118.83 Q2111.77 1118.83 2114.11 1116.72 Q2116.45 1114.62 2116.45 1111.01 Q2116.45 1107.4 2114.11 1105.29 Q2111.77 1103.18 2107.77 1103.18 Q2105.89 1103.18 2104.02 1103.6 Q2102.17 1104.02 2100.22 1104.9 L2100.22 1087.53 Z\\\" fill=\\\"#000000\\\" fill-rule=\\\"nonzero\\\" fill-opacity=\\\"1\\\" \\/><path clip-path=\\\"url(#clip770)\\\" d=\\\"M2652.78 1118.16 L2669.1 1118.16 L2669.1 1122.09 L2647.16 1122.09 L2647.16 1118.16 Q2649.82 1115.4 2654.4 1110.77 Q2659.01 1106.12 2660.19 1104.78 Q2662.43 1102.26 2663.31 1100.52 Q2664.22 1098.76 2664.22 1097.07 Q2664.22 1094.32 2662.27 1092.58 Q2660.35 1090.84 2657.25 1090.84 Q2655.05 1090.84 2652.6 1091.61 Q2650.17 1092.37 2647.39 1093.92 L2647.39 1089.2 Q2650.21 1088.07 2652.67 1087.49 Q2655.12 1086.91 2657.16 1086.91 Q2662.53 1086.91 2665.72 1089.59 Q2668.92 1092.28 2668.92 1096.77 Q2668.92 1098.9 2668.11 1100.82 Q2667.32 1102.72 2665.21 1105.31 Q2664.63 1105.98 2661.53 1109.2 Q2658.43 1112.4 2652.78 1118.16 Z\\\" fill=\\\"#000000\\\" fill-rule=\\\"nonzero\\\" fill-opacity=\\\"1\\\" \\/><path clip-path=\\\"url(#clip770)\\\" d=\\\"M2678.92 1116.21 L2683.8 1116.21 L2683.8 1122.09 L2678.92 1122.09 L2678.92 1116.21 Z\\\" fill=\\\"#000000\\\" fill-rule=\\\"nonzero\\\" fill-opacity=\\\"1\\\" \\/><path clip-path=\\\"url(#clip770)\\\" d=\\\"M2703.99 1090.61 Q2700.37 1090.61 2698.55 1094.18 Q2696.74 1097.72 2696.74 1104.85 Q2696.74 1111.96 2698.55 1115.52 Q2700.37 1119.06 2703.99 1119.06 Q2707.62 1119.06 2709.42 1115.52 Q2711.25 1111.96 2711.25 1104.85 Q2711.25 1097.72 2709.42 1094.18 Q2707.62 1090.61 2703.99 1090.61 M2703.99 1086.91 Q2709.8 1086.91 2712.85 1091.52 Q2715.93 1096.1 2715.93 1104.85 Q2715.93 1113.58 2712.85 1118.18 Q2709.8 1122.77 2703.99 1122.77 Q2698.17 1122.77 2695.1 1118.18 Q2692.04 1113.58 2692.04 1104.85 Q2692.04 1096.1 2695.1 1091.52 Q2698.17 1086.91 2703.99 1086.91 Z\\\" fill=\\\"#000000\\\" fill-rule=\\\"nonzero\\\" fill-opacity=\\\"1\\\" \\/><path clip-path=\\\"url(#clip770)\\\" d=\\\"M1382.12 1161.59 L1382.12 1171.71 L1394.18 1171.71 L1394.18 1176.26 L1382.12 1176.26 L1382.12 1195.61 Q1382.12 1199.97 1383.3 1201.22 Q1384.5 1202.46 1388.16 1202.46 L1394.18 1202.46 L1394.18 1207.36 L1388.16 1207.36 Q1381.39 1207.36 1378.81 1204.84 Q1376.23 1202.3 1376.23 1195.61 L1376.23 1176.26 L1371.93 1176.26 L1371.93 1171.71 L1376.23 1171.71 L1376.23 1161.59 L1382.12 1161.59 Z\\\" fill=\\\"#000000\\\" fill-rule=\\\"nonzero\\\" fill-opacity=\\\"1\\\" \\/><path clip-path=\\\"url(#clip770)\\\" d=\\\"M1401.88 1171.71 L1407.74 1171.71 L1407.74 1207.36 L1401.88 1207.36 L1401.88 1171.71 M1401.88 1157.83 L1407.74 1157.83 L1407.74 1165.25 L1401.88 1165.25 L1401.88 1157.83 Z\\\" fill=\\\"#000000\\\" fill-rule=\\\"nonzero\\\" fill-opacity=\\\"1\\\" \\/><path clip-path=\\\"url(#clip770)\\\" d=\\\"M1447.75 1178.55 Q1449.94 1174.61 1453 1172.73 Q1456.06 1170.85 1460.19 1170.85 Q1465.76 1170.85 1468.79 1174.77 Q1471.81 1178.65 1471.81 1185.84 L1471.81 1207.36 L1465.92 1207.36 L1465.92 1186.03 Q1465.92 1180.91 1464.11 1178.43 Q1462.29 1175.94 1458.57 1175.94 Q1454.02 1175.94 1451.38 1178.97 Q1448.73 1181.99 1448.73 1187.21 L1448.73 1207.36 L1442.85 1207.36 L1442.85 1186.03 Q1442.85 1180.88 1441.03 1178.43 Q1439.22 1175.94 1435.43 1175.94 Q1430.94 1175.94 1428.3 1179 Q1425.66 1182.02 1425.66 1187.21 L1425.66 1207.36 L1419.77 1207.36 L1419.77 1171.71 L1425.66 1171.71 L1425.66 1177.25 Q1427.66 1173.97 1430.47 1172.41 Q1433.27 1170.85 1437.12 1170.85 Q1441 1170.85 1443.71 1172.82 Q1446.44 1174.8 1447.75 1178.55 Z\\\" fill=\\\"#000000\\\" fill-rule=\\\"nonzero\\\" fill-opacity=\\\"1\\\" \\/><path clip-path=\\\"url(#clip770)\\\" d=\\\"M1513.98 1188.07 L1513.98 1190.93 L1487.06 1190.93 Q1487.44 1196.98 1490.68 1200.16 Q1493.96 1203.32 1499.79 1203.32 Q1503.16 1203.32 1506.31 1202.49 Q1509.5 1201.66 1512.61 1200.01 L1512.61 1205.54 Q1509.46 1206.88 1506.15 1207.58 Q1502.84 1208.28 1499.44 1208.28 Q1490.91 1208.28 1485.91 1203.32 Q1480.95 1198.35 1480.95 1189.88 Q1480.95 1181.13 1485.66 1176.01 Q1490.4 1170.85 1498.42 1170.85 Q1505.61 1170.85 1509.78 1175.5 Q1513.98 1180.11 1513.98 1188.07 M1508.13 1186.35 Q1508.06 1181.55 1505.42 1178.68 Q1502.81 1175.82 1498.48 1175.82 Q1493.58 1175.82 1490.62 1178.59 Q1487.69 1181.35 1487.25 1186.38 L1508.13 1186.35 Z\\\" fill=\\\"#000000\\\" fill-rule=\\\"nonzero\\\" fill-opacity=\\\"1\\\" \\/><path clip-path=\\\"url(#clip770)\\\" d=\\\"M1543.77 1157.83 L1557.27 1157.83 L1557.27 1162.38 L1549.63 1162.38 L1549.63 1211.4 L1557.27 1211.4 L1557.27 1215.95 L1543.77 1215.95 L1543.77 1157.83 Z\\\" fill=\\\"#000000\\\" fill-rule=\\\"nonzero\\\" fill-opacity=\\\"1\\\" \\/><path clip-path=\\\"url(#clip770)\\\" d=\\\"M1592.47 1172.76 L1592.47 1178.3 Q1589.99 1177.03 1587.32 1176.39 Q1584.64 1175.75 1581.78 1175.75 Q1577.42 1175.75 1575.22 1177.09 Q1573.06 1178.43 1573.06 1181.1 Q1573.06 1183.14 1574.62 1184.31 Q1576.18 1185.46 1580.89 1186.51 L1582.89 1186.96 Q1589.13 1188.29 1591.74 1190.74 Q1594.38 1193.16 1594.38 1197.52 Q1594.38 1202.49 1590.44 1205.38 Q1586.52 1208.28 1579.65 1208.28 Q1576.78 1208.28 1573.66 1207.71 Q1570.57 1207.17 1567.14 1206.05 L1567.14 1200.01 Q1570.38 1201.69 1573.53 1202.55 Q1576.69 1203.38 1579.77 1203.38 Q1583.91 1203.38 1586.14 1201.98 Q1588.37 1200.55 1588.37 1197.97 Q1588.37 1195.58 1586.74 1194.31 Q1585.15 1193.04 1579.71 1191.86 L1577.67 1191.38 Q1572.23 1190.23 1569.81 1187.88 Q1567.39 1185.49 1567.39 1181.35 Q1567.39 1176.33 1570.96 1173.59 Q1574.52 1170.85 1581.08 1170.85 Q1584.32 1170.85 1587.19 1171.33 Q1590.05 1171.81 1592.47 1172.76 Z\\\" fill=\\\"#000000\\\" fill-rule=\\\"nonzero\\\" fill-opacity=\\\"1\\\" \\/><path clip-path=\\\"url(#clip770)\\\" d=\\\"M1617.39 1157.83 L1617.39 1215.95 L1603.9 1215.95 L1603.9 1211.4 L1611.51 1211.4 L1611.51 1162.38 L1603.9 1162.38 L1603.9 1157.83 L1617.39 1157.83 Z\\\" fill=\\\"#000000\\\" fill-rule=\\\"nonzero\\\" fill-opacity=\\\"1\\\" \\/><polyline clip-path=\\\"url(#clip772)\\\" style=\\\"stroke:#000000; stroke-linecap:round; stroke-linejoin:round; stroke-width:2; stroke-opacity:0.1; fill:none\\\" points=\\\"236.571,1027.93 2752.76,1027.93 \\\"\\/>\\n<polyline clip-path=\\\"url(#clip772)\\\" style=\\\"stroke:#000000; stroke-linecap:round; stroke-linejoin:round; stroke-width:2; stroke-opacity:0.1; fill:none\\\" points=\\\"236.571,789.9 2752.76,789.9 \\\"\\/>\\n<polyline clip-path=\\\"url(#clip772)\\\" style=\\\"stroke:#000000; stroke-linecap:round; stroke-linejoin:round; stroke-width:2; stroke-opacity:0.1; fill:none\\\" points=\\\"236.571,551.869 2752.76,551.869 \\\"\\/>\\n<polyline clip-path=\\\"url(#clip772)\\\" style=\\\"stroke:#000000; stroke-linecap:round; stroke-linejoin:round; stroke-width:2; stroke-opacity:0.1; fill:none\\\" points=\\\"236.571,313.838 2752.76,313.838 \\\"\\/>\\n<polyline clip-path=\\\"url(#clip772)\\\" style=\\\"stroke:#000000; stroke-linecap:round; stroke-linejoin:round; stroke-width:2; stroke-opacity:0.1; fill:none\\\" points=\\\"236.571,75.8078 2752.76,75.8078 \\\"\\/>\\n<polyline clip-path=\\\"url(#clip770)\\\" style=\\\"stroke:#000000; stroke-linecap:round; stroke-linejoin:round; stroke-width:4; stroke-opacity:1; fill:none\\\" points=\\\"236.571,1056.49 236.571,47.2441 \\\"\\/>\\n<polyline clip-path=\\\"url(#clip770)\\\" style=\\\"stroke:#000000; stroke-linecap:round; stroke-linejoin:round; stroke-width:4; stroke-opacity:1; fill:none\\\" points=\\\"236.571,1027.93 255.468,1027.93 \\\"\\/>\\n<polyline clip-path=\\\"url(#clip770)\\\" style=\\\"stroke:#000000; stroke-linecap:round; stroke-linejoin:round; stroke-width:4; stroke-opacity:1; fill:none\\\" points=\\\"236.571,789.9 255.468,789.9 \\\"\\/>\\n<polyline clip-path=\\\"url(#clip770)\\\" style=\\\"stroke:#000000; stroke-linecap:round; stroke-linejoin:round; stroke-width:4; stroke-opacity:1; fill:none\\\" points=\\\"236.571,551.869 255.468,551.869 \\\"\\/>\\n<polyline clip-path=\\\"url(#clip770)\\\" style=\\\"stroke:#000000; stroke-linecap:round; stroke-linejoin:round; stroke-width:4; stroke-opacity:1; fill:none\\\" points=\\\"236.571,313.838 255.468,313.838 \\\"\\/>\\n<polyline clip-path=\\\"url(#clip770)\\\" style=\\\"stroke:#000000; stroke-linecap:round; stroke-linejoin:round; stroke-width:4; stroke-opacity:1; fill:none\\\" points=\\\"236.571,75.8078 255.468,75.8078 \\\"\\/>\\n<path clip-path=\\\"url(#clip770)\\\" d=\\\"M107.233 1013.73 Q103.622 1013.73 101.793 1017.29 Q99.9878 1020.84 99.9878 1027.97 Q99.9878 1035.07 101.793 1038.64 Q103.622 1042.18 107.233 1042.18 Q110.867 1042.18 112.673 1038.64 Q114.502 1035.07 114.502 1027.97 Q114.502 1020.84 112.673 1017.29 Q110.867 1013.73 107.233 1013.73 M107.233 1010.03 Q113.043 1010.03 116.099 1014.63 Q119.177 1019.22 119.177 1027.97 Q119.177 1036.69 116.099 1041.3 Q113.043 1045.88 107.233 1045.88 Q101.423 1045.88 98.3443 1041.3 Q95.2887 1036.69 95.2887 1027.97 Q95.2887 1019.22 98.3443 1014.63 Q101.423 1010.03 107.233 1010.03 Z\\\" fill=\\\"#000000\\\" fill-rule=\\\"nonzero\\\" fill-opacity=\\\"1\\\" \\/><path clip-path=\\\"url(#clip770)\\\" d=\\\"M127.395 1039.33 L132.279 1039.33 L132.279 1045.21 L127.395 1045.21 L127.395 1039.33 Z\\\" fill=\\\"#000000\\\" fill-rule=\\\"nonzero\\\" fill-opacity=\\\"1\\\" \\/><path clip-path=\\\"url(#clip770)\\\" d=\\\"M152.464 1013.73 Q148.853 1013.73 147.025 1017.29 Q145.219 1020.84 145.219 1027.97 Q145.219 1035.07 147.025 1038.64 Q148.853 1042.18 152.464 1042.18 Q156.099 1042.18 157.904 1038.64 Q159.733 1035.07 159.733 1027.97 Q159.733 1020.84 157.904 1017.29 Q156.099 1013.73 152.464 1013.73 M152.464 1010.03 Q158.275 1010.03 161.33 1014.63 Q164.409 1019.22 164.409 1027.97 Q164.409 1036.69 161.33 1041.3 Q158.275 1045.88 152.464 1045.88 Q146.654 1045.88 143.576 1041.3 Q140.52 1036.69 140.52 1027.97 Q140.52 1019.22 143.576 1014.63 Q146.654 1010.03 152.464 1010.03 Z\\\" fill=\\\"#000000\\\" fill-rule=\\\"nonzero\\\" fill-opacity=\\\"1\\\" \\/><path clip-path=\\\"url(#clip770)\\\" d=\\\"M182.626 1013.73 Q179.015 1013.73 177.186 1017.29 Q175.381 1020.84 175.381 1027.97 Q175.381 1035.07 177.186 1038.64 Q179.015 1042.18 182.626 1042.18 Q186.26 1042.18 188.066 1038.64 Q189.895 1035.07 189.895 1027.97 Q189.895 1020.84 188.066 1017.29 Q186.26 1013.73 182.626 1013.73 M182.626 1010.03 Q188.436 1010.03 191.492 1014.63 Q194.571 1019.22 194.571 1027.97 Q194.571 1036.69 191.492 1041.3 Q188.436 1045.88 182.626 1045.88 Q176.816 1045.88 173.737 1041.3 Q170.682 1036.69 170.682 1027.97 Q170.682 1019.22 173.737 1014.63 Q176.816 1010.03 182.626 1010.03 Z\\\" fill=\\\"#000000\\\" fill-rule=\\\"nonzero\\\" fill-opacity=\\\"1\\\" \\/><path clip-path=\\\"url(#clip770)\\\" d=\\\"M108.228 775.698 Q104.617 775.698 102.789 779.263 Q100.983 782.805 100.983 789.935 Q100.983 797.041 102.789 800.606 Q104.617 804.147 108.228 804.147 Q111.863 804.147 113.668 800.606 Q115.497 797.041 115.497 789.935 Q115.497 782.805 113.668 779.263 Q111.863 775.698 108.228 775.698 M108.228 771.995 Q114.039 771.995 117.094 776.601 Q120.173 781.185 120.173 789.935 Q120.173 798.661 117.094 803.268 Q114.039 807.851 108.228 807.851 Q102.418 807.851 99.3396 803.268 Q96.2841 798.661 96.2841 789.935 Q96.2841 781.185 99.3396 776.601 Q102.418 771.995 108.228 771.995 Z\\\" fill=\\\"#000000\\\" fill-rule=\\\"nonzero\\\" fill-opacity=\\\"1\\\" \\/><path clip-path=\\\"url(#clip770)\\\" d=\\\"M128.39 801.3 L133.275 801.3 L133.275 807.18 L128.39 807.18 L128.39 801.3 Z\\\" fill=\\\"#000000\\\" fill-rule=\\\"nonzero\\\" fill-opacity=\\\"1\\\" \\/><path clip-path=\\\"url(#clip770)\\\" d=\\\"M147.488 803.245 L163.807 803.245 L163.807 807.18 L141.863 807.18 L141.863 803.245 Q144.525 800.49 149.108 795.86 Q153.714 791.208 154.895 789.865 Q157.14 787.342 158.02 785.606 Q158.923 783.847 158.923 782.157 Q158.923 779.402 156.978 777.666 Q155.057 775.93 151.955 775.93 Q149.756 775.93 147.302 776.694 Q144.872 777.458 142.094 779.009 L142.094 774.286 Q144.918 773.152 147.372 772.573 Q149.825 771.995 151.862 771.995 Q157.233 771.995 160.427 774.68 Q163.622 777.365 163.622 781.856 Q163.622 783.985 162.812 785.907 Q162.024 787.805 159.918 790.397 Q159.339 791.069 156.237 794.286 Q153.136 797.481 147.488 803.245 Z\\\" fill=\\\"#000000\\\" fill-rule=\\\"nonzero\\\" fill-opacity=\\\"1\\\" \\/><path clip-path=\\\"url(#clip770)\\\" d=\\\"M173.668 772.62 L192.024 772.62 L192.024 776.555 L177.95 776.555 L177.95 785.027 Q178.969 784.68 179.987 784.518 Q181.006 784.333 182.024 784.333 Q187.811 784.333 191.191 787.504 Q194.571 790.675 194.571 796.092 Q194.571 801.671 191.098 804.772 Q187.626 807.851 181.307 807.851 Q179.131 807.851 176.862 807.481 Q174.617 807.11 172.21 806.37 L172.21 801.671 Q174.293 802.805 176.515 803.36 Q178.737 803.916 181.214 803.916 Q185.219 803.916 187.557 801.809 Q189.895 799.703 189.895 796.092 Q189.895 792.481 187.557 790.374 Q185.219 788.268 181.214 788.268 Q179.339 788.268 177.464 788.685 Q175.612 789.101 173.668 789.981 L173.668 772.62 Z\\\" fill=\\\"#000000\\\" fill-rule=\\\"nonzero\\\" fill-opacity=\\\"1\\\" \\/><path clip-path=\\\"url(#clip770)\\\" d=\\\"M107.233 537.668 Q103.622 537.668 101.793 541.233 Q99.9878 544.774 99.9878 551.904 Q99.9878 559.01 101.793 562.575 Q103.622 566.117 107.233 566.117 Q110.867 566.117 112.673 562.575 Q114.502 559.01 114.502 551.904 Q114.502 544.774 112.673 541.233 Q110.867 537.668 107.233 537.668 M107.233 533.964 Q113.043 533.964 116.099 538.571 Q119.177 543.154 119.177 551.904 Q119.177 560.631 116.099 565.237 Q113.043 569.82 107.233 569.82 Q101.423 569.82 98.3443 565.237 Q95.2887 560.631 95.2887 551.904 Q95.2887 543.154 98.3443 538.571 Q101.423 533.964 107.233 533.964 Z\\\" fill=\\\"#000000\\\" fill-rule=\\\"nonzero\\\" fill-opacity=\\\"1\\\" \\/><path clip-path=\\\"url(#clip770)\\\" d=\\\"M127.395 563.27 L132.279 563.27 L132.279 569.149 L127.395 569.149 L127.395 563.27 Z\\\" fill=\\\"#000000\\\" fill-rule=\\\"nonzero\\\" fill-opacity=\\\"1\\\" \\/><path clip-path=\\\"url(#clip770)\\\" d=\\\"M142.511 534.589 L160.867 534.589 L160.867 538.524 L146.793 538.524 L146.793 546.996 Q147.812 546.649 148.83 546.487 Q149.849 546.302 150.867 546.302 Q156.654 546.302 160.034 549.473 Q163.413 552.645 163.413 558.061 Q163.413 563.64 159.941 566.742 Q156.469 569.82 150.15 569.82 Q147.974 569.82 145.705 569.45 Q143.46 569.08 141.052 568.339 L141.052 563.64 Q143.136 564.774 145.358 565.33 Q147.58 565.885 150.057 565.885 Q154.062 565.885 156.4 563.779 Q158.737 561.672 158.737 558.061 Q158.737 554.45 156.4 552.344 Q154.062 550.237 150.057 550.237 Q148.182 550.237 146.307 550.654 Q144.455 551.071 142.511 551.95 L142.511 534.589 Z\\\" fill=\\\"#000000\\\" fill-rule=\\\"nonzero\\\" fill-opacity=\\\"1\\\" \\/><path clip-path=\\\"url(#clip770)\\\" d=\\\"M182.626 537.668 Q179.015 537.668 177.186 541.233 Q175.381 544.774 175.381 551.904 Q175.381 559.01 177.186 562.575 Q179.015 566.117 182.626 566.117 Q186.26 566.117 188.066 562.575 Q189.895 559.01 189.895 551.904 Q189.895 544.774 188.066 541.233 Q186.26 537.668 182.626 537.668 M182.626 533.964 Q188.436 533.964 191.492 538.571 Q194.571 543.154 194.571 551.904 Q194.571 560.631 191.492 565.237 Q188.436 569.82 182.626 569.82 Q176.816 569.82 173.737 565.237 Q170.682 560.631 170.682 551.904 Q170.682 543.154 173.737 538.571 Q176.816 533.964 182.626 533.964 Z\\\" fill=\\\"#000000\\\" fill-rule=\\\"nonzero\\\" fill-opacity=\\\"1\\\" \\/><path clip-path=\\\"url(#clip770)\\\" d=\\\"M108.228 299.637 Q104.617 299.637 102.789 303.202 Q100.983 306.744 100.983 313.873 Q100.983 320.98 102.789 324.544 Q104.617 328.086 108.228 328.086 Q111.863 328.086 113.668 324.544 Q115.497 320.98 115.497 313.873 Q115.497 306.744 113.668 303.202 Q111.863 299.637 108.228 299.637 M108.228 295.933 Q114.039 295.933 117.094 300.54 Q120.173 305.123 120.173 313.873 Q120.173 322.6 117.094 327.206 Q114.039 331.79 108.228 331.79 Q102.418 331.79 99.3396 327.206 Q96.2841 322.6 96.2841 313.873 Q96.2841 305.123 99.3396 300.54 Q102.418 295.933 108.228 295.933 Z\\\" fill=\\\"#000000\\\" fill-rule=\\\"nonzero\\\" fill-opacity=\\\"1\\\" \\/><path clip-path=\\\"url(#clip770)\\\" d=\\\"M128.39 325.239 L133.275 325.239 L133.275 331.118 L128.39 331.118 L128.39 325.239 Z\\\" fill=\\\"#000000\\\" fill-rule=\\\"nonzero\\\" fill-opacity=\\\"1\\\" \\/><path clip-path=\\\"url(#clip770)\\\" d=\\\"M142.279 296.558 L164.501 296.558 L164.501 298.549 L151.955 331.118 L147.071 331.118 L158.876 300.494 L142.279 300.494 L142.279 296.558 Z\\\" fill=\\\"#000000\\\" fill-rule=\\\"nonzero\\\" fill-opacity=\\\"1\\\" \\/><path clip-path=\\\"url(#clip770)\\\" d=\\\"M173.668 296.558 L192.024 296.558 L192.024 300.494 L177.95 300.494 L177.95 308.966 Q178.969 308.619 179.987 308.457 Q181.006 308.271 182.024 308.271 Q187.811 308.271 191.191 311.443 Q194.571 314.614 194.571 320.031 Q194.571 325.609 191.098 328.711 Q187.626 331.79 181.307 331.79 Q179.131 331.79 176.862 331.419 Q174.617 331.049 172.21 330.308 L172.21 325.609 Q174.293 326.743 176.515 327.299 Q178.737 327.855 181.214 327.855 Q185.219 327.855 187.557 325.748 Q189.895 323.642 189.895 320.031 Q189.895 316.419 187.557 314.313 Q185.219 312.207 181.214 312.207 Q179.339 312.207 177.464 312.623 Q175.612 313.04 173.668 313.919 L173.668 296.558 Z\\\" fill=\\\"#000000\\\" fill-rule=\\\"nonzero\\\" fill-opacity=\\\"1\\\" \\/><path clip-path=\\\"url(#clip770)\\\" d=\\\"M98.0433 89.1526 L105.682 89.1526 L105.682 62.787 L97.3721 64.4537 L97.3721 60.1944 L105.636 58.5278 L110.312 58.5278 L110.312 89.1526 L117.951 89.1526 L117.951 93.0878 L98.0433 93.0878 L98.0433 89.1526 Z\\\" fill=\\\"#000000\\\" fill-rule=\\\"nonzero\\\" fill-opacity=\\\"1\\\" \\/><path clip-path=\\\"url(#clip770)\\\" d=\\\"M127.395 87.2082 L132.279 87.2082 L132.279 93.0878 L127.395 93.0878 L127.395 87.2082 Z\\\" fill=\\\"#000000\\\" fill-rule=\\\"nonzero\\\" fill-opacity=\\\"1\\\" \\/><path clip-path=\\\"url(#clip770)\\\" d=\\\"M152.464 61.6065 Q148.853 61.6065 147.025 65.1713 Q145.219 68.7129 145.219 75.8425 Q145.219 82.9489 147.025 86.5137 Q148.853 90.0554 152.464 90.0554 Q156.099 90.0554 157.904 86.5137 Q159.733 82.9489 159.733 75.8425 Q159.733 68.7129 157.904 65.1713 Q156.099 61.6065 152.464 61.6065 M152.464 57.9028 Q158.275 57.9028 161.33 62.5092 Q164.409 67.0925 164.409 75.8425 Q164.409 84.5693 161.33 89.1758 Q158.275 93.7591 152.464 93.7591 Q146.654 93.7591 143.576 89.1758 Q140.52 84.5693 140.52 75.8425 Q140.52 67.0925 143.576 62.5092 Q146.654 57.9028 152.464 57.9028 Z\\\" fill=\\\"#000000\\\" fill-rule=\\\"nonzero\\\" fill-opacity=\\\"1\\\" \\/><path clip-path=\\\"url(#clip770)\\\" d=\\\"M182.626 61.6065 Q179.015 61.6065 177.186 65.1713 Q175.381 68.7129 175.381 75.8425 Q175.381 82.9489 177.186 86.5137 Q179.015 90.0554 182.626 90.0554 Q186.26 90.0554 188.066 86.5137 Q189.895 82.9489 189.895 75.8425 Q189.895 68.7129 188.066 65.1713 Q186.26 61.6065 182.626 61.6065 M182.626 57.9028 Q188.436 57.9028 191.492 62.5092 Q194.571 67.0925 194.571 75.8425 Q194.571 84.5693 191.492 89.1758 Q188.436 93.7591 182.626 93.7591 Q176.816 93.7591 173.737 89.1758 Q170.682 84.5693 170.682 75.8425 Q170.682 67.0925 173.737 62.5092 Q176.816 57.9028 182.626 57.9028 Z\\\" fill=\\\"#000000\\\" fill-rule=\\\"nonzero\\\" fill-opacity=\\\"1\\\" \\/><path clip-path=\\\"url(#clip770)\\\" d=\\\"M42.3429 595.904 Q48.7086 598.387 50.6501 600.742 Q52.5917 603.097 52.5917 607.044 L52.5917 611.723 L47.6901 611.723 L47.6901 608.285 Q47.6901 605.866 46.5443 604.529 Q45.3984 603.193 41.1334 601.569 L38.4598 600.519 L3.38477 614.937 L3.38477 608.731 L31.2666 597.591 L3.38477 586.451 L3.38477 580.244 L42.3429 595.904 Z\\\" fill=\\\"#000000\\\" fill-rule=\\\"nonzero\\\" fill-opacity=\\\"1\\\" \\/><path clip-path=\\\"url(#clip770)\\\" d=\\\"M-10.4925 551.981 L-10.4925 538.485 L-5.94099 538.485 L-5.94099 546.124 L43.075 546.124 L43.075 538.485 L47.6264 538.485 L47.6264 551.981 L-10.4925 551.981 Z\\\" fill=\\\"#000000\\\" fill-rule=\\\"nonzero\\\" fill-opacity=\\\"1\\\" \\/><path clip-path=\\\"url(#clip770)\\\" d=\\\"M18.567 528.968 L18.567 511.813 L23.7869 511.813 L23.7869 528.968 L18.567 528.968 Z\\\" fill=\\\"#000000\\\" fill-rule=\\\"nonzero\\\" fill-opacity=\\\"1\\\" \\/><path clip-path=\\\"url(#clip770)\\\" d=\\\"M-10.4925 488.801 L47.6264 488.801 L47.6264 502.296 L43.075 502.296 L43.075 494.689 L-5.94099 494.689 L-5.94099 502.296 L-10.4925 502.296 L-10.4925 488.801 Z\\\" fill=\\\"#000000\\\" fill-rule=\\\"nonzero\\\" fill-opacity=\\\"1\\\" \\/><polyline clip-path=\\\"url(#clip772)\\\" style=\\\"stroke:#009af9; stroke-linecap:round; stroke-linejoin:round; stroke-width:4; stroke-opacity:1; fill:none\\\" points=\\\"307.783,1027.93 307.783,1027.93 307.783,1027.93 307.783,75.8078 312.531,75.8078 317.278,75.8078 322.026,75.8078 326.773,75.8078 331.521,75.8078 336.269,75.8078 341.016,75.8078 345.764,75.8078 350.511,75.8078 355.259,75.8078 360.006,75.8078 364.754,75.8078 369.501,75.8078 374.249,75.8078 378.996,75.8078 383.744,75.8078 388.491,75.8078 393.239,75.8078 397.986,75.8078 402.734,75.8078 407.481,75.8078 412.229,75.8078 416.976,75.8078 421.724,75.8078 426.471,75.8078 431.219,75.8078 435.966,75.8078 440.714,75.8078 445.461,75.8078 450.209,75.8078 454.956,75.8078 459.704,75.8078 464.452,75.8078 469.199,75.8078 473.947,75.8078 478.694,75.8078 483.442,75.8078 488.189,75.8078 492.937,75.8078 497.684,75.8078 502.432,75.8078 507.179,75.8078 511.927,75.8078 516.674,75.8078 521.422,75.8078 526.169,75.8078 530.917,75.8078 535.664,75.8078 540.412,75.8078 545.159,75.8078 549.907,75.8078 554.654,75.8078 559.402,75.8078 564.149,75.8078 568.897,75.8078 573.644,75.8078 578.392,75.8078 583.14,75.8078 587.887,75.8078 592.635,75.8078 597.382,75.8078 602.13,75.8078 604.503,75.8078 604.503,1027.93 606.877,1027.93 611.625,1027.93 616.372,1027.93 621.12,1027.93 625.867,1027.93 630.615,1027.93 635.362,1027.93 640.11,1027.93 644.857,1027.93 649.605,1027.93 654.352,1027.93 659.1,1027.93 663.847,1027.93 668.595,1027.93 673.342,1027.93 678.09,1027.93 682.837,1027.93 687.585,1027.93 692.332,1027.93 697.08,1027.93 701.828,1027.93 706.575,1027.93 711.323,1027.93 716.07,1027.93 720.818,1027.93 725.565,1027.93 730.313,1027.93 735.06,1027.93 739.808,1027.93 744.555,1027.93 749.303,1027.93 754.05,1027.93 758.798,1027.93 763.545,1027.93 768.293,1027.93 773.04,1027.93 777.788,1027.93 782.535,1027.93 787.283,1027.93 792.03,1027.93 796.778,1027.93 801.525,1027.93 806.273,1027.93 811.02,1027.93 815.768,1027.93 820.515,1027.93 825.263,1027.93 830.011,1027.93 834.758,1027.93 839.506,1027.93 844.253,1027.93 849.001,1027.93 853.748,1027.93 858.496,1027.93 863.243,1027.93 867.991,1027.93 872.738,1027.93 877.486,1027.93 882.233,1027.93 886.981,1027.93 891.728,1027.93 896.476,1027.93 901.223,1027.93 901.223,1027.93 901.223,75.8078 905.971,75.8078 910.718,75.8078 915.466,75.8078 920.213,75.8078 924.961,75.8078 929.708,75.8078 934.456,75.8078 939.203,75.8078 943.951,75.8078 948.699,75.8078 953.446,75.8078 958.194,75.8078 962.941,75.8078 967.689,75.8078 972.436,75.8078 977.184,75.8078 981.931,75.8078 986.679,75.8078 991.426,75.8078 996.174,75.8078 1000.92,75.8078 1005.67,75.8078 1010.42,75.8078 1015.16,75.8078 1019.91,75.8078 1024.66,75.8078 1029.41,75.8078 1034.15,75.8078 1038.9,75.8078 1043.65,75.8078 1048.4,75.8078 1053.14,75.8078 1057.89,75.8078 1062.64,75.8078 1067.39,75.8078 1072.13,75.8078 1076.88,75.8078 1081.63,75.8078 1086.38,75.8078 1091.12,75.8078 1095.87,75.8078 1100.62,75.8078 1105.37,75.8078 1110.11,75.8078 1114.86,75.8078 1119.61,75.8078 1124.36,75.8078 1129.1,75.8078 1133.85,75.8078 1138.6,75.8078 1143.35,75.8078 1148.09,75.8078 1152.84,75.8078 1157.59,75.8078 1162.34,75.8078 1167.08,75.8078 1171.83,75.8078 1176.58,75.8078 1181.33,75.8078 1186.07,75.8078 1190.82,75.8078 1195.57,75.8078 1197.94,75.8078 1197.94,1027.93 1200.32,1027.93 1205.06,1027.93 1209.81,1027.93 1214.56,1027.93 1219.31,1027.93 1224.05,1027.93 1228.8,1027.93 1233.55,1027.93 1238.3,1027.93 1243.04,1027.93 1247.79,1027.93 1252.54,1027.93 1257.29,1027.93 1262.03,1027.93 1266.78,1027.93 1271.53,1027.93 1276.28,1027.93 1281.02,1027.93 1285.77,1027.93 1290.52,1027.93 1295.27,1027.93 1300.01,1027.93 1304.76,1027.93 1309.51,1027.93 1314.26,1027.93 1319.01,1027.93 1323.75,1027.93 1328.5,1027.93 1333.25,1027.93 1338,1027.93 1342.74,1027.93 1347.49,1027.93 1352.24,1027.93 1356.99,1027.93 1361.73,1027.93 1366.48,1027.93 1371.23,1027.93 1375.98,1027.93 1380.72,1027.93 1385.47,1027.93 1390.22,1027.93 1394.97,1027.93 1399.71,1027.93 1404.46,1027.93 1409.21,1027.93 1413.96,1027.93 1418.7,1027.93 1423.45,1027.93 1428.2,1027.93 1432.95,1027.93 1437.69,1027.93 1442.44,1027.93 1447.19,1027.93 1451.94,1027.93 1456.68,1027.93 1461.43,1027.93 1466.18,1027.93 1470.93,1027.93 1475.67,1027.93 1480.42,1027.93 1485.17,1027.93 1489.92,1027.93 1494.66,1027.93 1494.66,1027.93 1494.66,75.8078 1499.41,75.8078 1504.16,75.8078 1508.91,75.8078 1513.65,75.8078 1518.4,75.8078 1523.15,75.8078 1527.9,75.8078 1532.64,75.8078 1537.39,75.8078 1542.14,75.8078 1546.89,75.8078 1551.63,75.8078 1556.38,75.8078 1561.13,75.8078 1565.88,75.8078 1570.62,75.8078 1575.37,75.8078 1580.12,75.8078 1584.87,75.8078 1589.61,75.8078 1594.36,75.8078 1599.11,75.8078 1603.86,75.8078 1608.6,75.8078 1613.35,75.8078 1618.1,75.8078 1622.85,75.8078 1627.59,75.8078 1632.34,75.8078 1637.09,75.8078 1641.84,75.8078 1646.58,75.8078 1651.33,75.8078 1656.08,75.8078 1660.83,75.8078 1665.57,75.8078 1670.32,75.8078 1675.07,75.8078 1679.82,75.8078 1684.56,75.8078 1689.31,75.8078 1694.06,75.8078 1698.81,75.8078 1703.55,75.8078 1708.3,75.8078 1713.05,75.8078 1717.8,75.8078 1722.54,75.8078 1727.29,75.8078 1732.04,75.8078 1736.79,75.8078 1741.53,75.8078 1746.28,75.8078 1751.03,75.8078 1755.78,75.8078 1760.52,75.8078 1765.27,75.8078 1770.02,75.8078 1774.77,75.8078 1779.51,75.8078 1784.26,75.8078 1789.01,75.8078 1791.38,75.8078 1791.38,1027.93 1793.76,1027.93 1798.5,1027.93 1803.25,1027.93 1808,1027.93 1812.75,1027.93 1817.49,1027.93 1822.24,1027.93 1826.99,1027.93 1831.74,1027.93 1836.48,1027.93 1841.23,1027.93 1845.98,1027.93 1850.73,1027.93 1855.47,1027.93 1860.22,1027.93 1864.97,1027.93 1869.72,1027.93 1874.46,1027.93 1879.21,1027.93 1883.96,1027.93 1888.71,1027.93 1893.45,1027.93 1898.2,1027.93 1902.95,1027.93 1907.7,1027.93 1912.44,1027.93 1917.19,1027.93 1921.94,1027.93 1926.69,1027.93 1931.44,1027.93 1936.18,1027.93 1940.93,1027.93 1945.68,1027.93 1950.43,1027.93 1955.17,1027.93 1959.92,1027.93 1964.67,1027.93 1969.42,1027.93 1974.16,1027.93 1978.91,1027.93 1983.66,1027.93 1988.41,1027.93 1993.15,1027.93 1997.9,1027.93 2002.65,1027.93 2007.4,1027.93 2012.14,1027.93 2016.89,1027.93 2021.64,1027.93 2026.39,1027.93 2031.13,1027.93 2035.88,1027.93 2040.63,1027.93 2045.38,1027.93 2050.12,1027.93 2054.87,1027.93 2059.62,1027.93 2064.37,1027.93 2069.11,1027.93 2073.86,1027.93 2078.61,1027.93 2083.36,1027.93 2088.1,1027.93 2088.1,1027.93 2088.1,75.8078 2092.85,75.8078 2097.6,75.8078 2102.35,75.8078 2107.09,75.8078 2111.84,75.8078 2116.59,75.8078 2121.34,75.8078 2126.08,75.8078 2130.83,75.8078 2135.58,75.8078 2140.33,75.8078 2145.07,75.8078 2149.82,75.8078 2154.57,75.8078 2159.32,75.8078 2164.06,75.8078 2168.81,75.8078 2173.56,75.8078 2178.31,75.8078 2183.05,75.8078 2187.8,75.8078 2192.55,75.8078 2197.3,75.8078 2202.04,75.8078 2206.79,75.8078 2211.54,75.8078 2216.29,75.8078 2221.03,75.8078 2225.78,75.8078 2230.53,75.8078 2235.28,75.8078 2240.02,75.8078 2244.77,75.8078 2249.52,75.8078 2254.27,75.8078 2259.01,75.8078 2263.76,75.8078 2268.51,75.8078 2273.26,75.8078 2278,75.8078 2282.75,75.8078 2287.5,75.8078 2292.25,75.8078 2296.99,75.8078 2301.74,75.8078 2306.49,75.8078 2311.24,75.8078 2315.98,75.8078 2320.73,75.8078 2325.48,75.8078 2330.23,75.8078 2334.97,75.8078 2339.72,75.8078 2344.47,75.8078 2349.22,75.8078 2353.96,75.8078 2358.71,75.8078 2363.46,75.8078 2368.21,75.8078 2372.95,75.8078 2377.7,75.8078 2382.45,75.8078 2384.82,75.8078 2384.82,1027.93 2387.2,1027.93 2391.94,1027.93 2396.69,1027.93 2401.44,1027.93 2406.19,1027.93 2410.93,1027.93 2415.68,1027.93 2420.43,1027.93 2425.18,1027.93 2429.92,1027.93 2434.67,1027.93 2439.42,1027.93 2444.17,1027.93 2448.91,1027.93 2453.66,1027.93 2458.41,1027.93 2463.16,1027.93 2467.9,1027.93 2472.65,1027.93 2477.4,1027.93 2482.15,1027.93 2486.89,1027.93 2491.64,1027.93 2496.39,1027.93 2501.14,1027.93 2505.88,1027.93 2510.63,1027.93 2515.38,1027.93 2520.13,1027.93 2524.87,1027.93 2529.62,1027.93 2534.37,1027.93 2539.12,1027.93 2543.87,1027.93 2548.61,1027.93 2553.36,1027.93 2558.11,1027.93 2562.86,1027.93 2567.6,1027.93 2572.35,1027.93 2577.1,1027.93 2581.85,1027.93 2586.59,1027.93 2591.34,1027.93 2596.09,1027.93 2600.84,1027.93 2605.58,1027.93 2610.33,1027.93 2615.08,1027.93 2619.83,1027.93 2624.57,1027.93 2629.32,1027.93 2634.07,1027.93 2638.82,1027.93 2643.56,1027.93 2648.31,1027.93 2653.06,1027.93 2657.81,1027.93 2662.55,1027.93 2667.3,1027.93 2672.05,1027.93 2676.8,1027.93 2681.54,1027.93 \\\"\\/>\\n<\\/svg>\\n\"},\"nodeType\":\"DOM\",\"type\":\"node\",\"instanceArgs\":{\"namespace\":\"html\",\"tag\":\"div\"},\"children\":[]}]}}}},\"children\":[{\"props\":{},\"nodeType\":\"ObservableNode\",\"type\":\"node\",\"instanceArgs\":{\"id\":\"17556272540657276945\",\"name\":\"obs-node\"},\"children\":[]}]}]},\n",
       "        window,\n",
       "    );\n",
       "    })()\n",
       "    </script>\n",
       "</div>\n"
      ],
      "text/plain": [
       "Node{WebIO.DOM}(WebIO.DOM(:html, :div), Any[Node{WebIO.DOM}(WebIO.DOM(:html, :div), Any[Scope(Node{WebIO.DOM}(WebIO.DOM(:html, :div), Any[Node{WebIO.DOM}(WebIO.DOM(:html, :div), Any[Node{WebIO.DOM}(WebIO.DOM(:html, :label), Any[\"dutyCycle\"], Dict{Symbol, Any}(:className => \"interact \", :style => Dict{Any, Any}(:padding => \"5px 10px 0px 10px\")))], Dict{Symbol, Any}(:className => \"interact-flex-row-left\")), Node{WebIO.DOM}(WebIO.DOM(:html, :div), Any[Node{WebIO.DOM}(WebIO.DOM(:html, :input), Any[], Dict{Symbol, Any}(:max => 19, :min => 1, :attributes => Dict{Any, Any}(:type => \"range\", Symbol(\"data-bind\") => \"numericValue: index, valueUpdate: 'input', event: {change: function (){this.changes(this.changes()+1)}}\", \"orient\" => \"horizontal\"), :step => 1, :className => \"slider slider is-fullwidth\", :style => Dict{Any, Any}()))], Dict{Symbol, Any}(:className => \"interact-flex-row-center\")), Node{WebIO.DOM}(WebIO.DOM(:html, :div), Any[Node{WebIO.DOM}(WebIO.DOM(:html, :p), Any[], Dict{Symbol, Any}(:attributes => Dict(\"data-bind\" => \"text: formatted_val\")))], Dict{Symbol, Any}(:className => \"interact-flex-row-right\"))], Dict{Symbol, Any}(:className => \"interact-flex-row interact-widget\")), Dict{String, Tuple{AbstractObservable, Union{Nothing, Bool}}}(\"changes\" => (Observable(0), nothing), \"index\" => (Observable{Any}(10), nothing)), Set{String}(), nothing, Asset[Asset(\"js\", \"knockout\", \"/home/joerg/.julia/packages/Knockout/HReiN/src/../assets/knockout.js\"), Asset(\"js\", \"knockout_punches\", \"/home/joerg/.julia/packages/Knockout/HReiN/src/../assets/knockout_punches.js\"), Asset(\"js\", nothing, \"/home/joerg/.julia/packages/InteractBase/LJXv3/src/../assets/all.js\"), Asset(\"css\", nothing, \"/home/joerg/.julia/packages/InteractBase/LJXv3/src/../assets/style.css\"), Asset(\"css\", nothing, \"/home/joerg/.julia/packages/Interact/PENUy/src/../assets/bulma_confined.min.css\")], Dict{Any, Any}(\"changes\" => Any[WebIO.JSString(\"(function (val){return (val!=this.model[\\\"changes\\\"]()) ? (this.valueFromJulia[\\\"changes\\\"]=true, this.model[\\\"changes\\\"](val)) : undefined})\")], \"index\" => Any[WebIO.JSString(\"(function (val){return (val!=this.model[\\\"index\\\"]()) ? (this.valueFromJulia[\\\"index\\\"]=true, this.model[\\\"index\\\"](val)) : undefined})\")]), WebIO.ConnectionPool(Channel{Any}(32), Set{AbstractConnection}(), Base.GenericCondition{ReentrantLock}(Base.IntrusiveLinkedList{Task}(Task (runnable) @0x00007f11fa9c68b0, Task (runnable) @0x00007f11fa9c68b0), ReentrantLock(nothing, 0x00000000, 0x00, Base.GenericCondition{Base.Threads.SpinLock}(Base.IntrusiveLinkedList{Task}(nothing, nothing), Base.Threads.SpinLock(0)), (8, 139713428315408, 0)))), WebIO.JSString[WebIO.JSString(\"function () {\\n    var handler = (function (ko, koPunches) {\\n    ko.punches.enableAll();\\n    ko.bindingHandlers.numericValue = {\\n        init: function(element, valueAccessor, allBindings, data, context) {\\n            var stringified = ko.observable(ko.unwrap(valueAccessor()));\\n            stringified.subscribe(function(value) {\\n                var val = parseFloat(value);\\n                if (!isNaN(val)) {\\n                    valueAccessor()(val);\\n                }\\n            });\\n            valueAccessor().subscribe(function(value) {\\n                var str = JSON.stringify(value);\\n                if ((str == \\\"0\\\") && ([\\\"-0\\\", \\\"-0.\\\"].indexOf(stringified()) >= 0))\\n                     return;\\n                 if ([\\\"null\\\", \\\"\\\"].indexOf(str) >= 0)\\n                     return;\\n                stringified(str);\\n            });\\n            ko.applyBindingsToNode(\\n                element,\\n                {\\n                    value: stringified,\\n                    valueUpdate: allBindings.get('valueUpdate'),\\n                },\\n                context,\\n            );\\n        }\\n    };\\n    var json_data = {\\\"formatted_vals\\\":[\\\"0.05\\\",\\\"0.1\\\",\\\"0.15\\\",\\\"0.2\\\",\\\"0.25\\\",\\\"0.3\\\",\\\"0.35\\\",\\\"0.4\\\",\\\"0.45\\\",\\\"0.5\\\",\\\"0.55\\\",\\\"0.6\\\",\\\"0.65\\\",\\\"0.7\\\",\\\"0.75\\\",\\\"0.8\\\",\\\"0.85\\\",\\\"0.9\\\",\\\"0.95\\\"],\\\"changes\\\":WebIO.getval({\\\"name\\\":\\\"changes\\\",\\\"scope\\\":\\\"432128499611573934\\\",\\\"id\\\":\\\"2121852769789286285\\\",\\\"type\\\":\\\"observable\\\"}),\\\"index\\\":WebIO.getval({\\\"name\\\":\\\"index\\\",\\\"scope\\\":\\\"432128499611573934\\\",\\\"id\\\":\\\"4466760699861735115\\\",\\\"type\\\":\\\"observable\\\"})};\\n    var self = this;\\n    function AppViewModel() {\\n        for (var key in json_data) {\\n            var el = json_data[key];\\n            this[key] = Array.isArray(el) ? ko.observableArray(el) : ko.observable(el);\\n        }\\n        \\n        [this[\\\"formatted_val\\\"]=ko.computed(    function(){\\n        return this.formatted_vals()[parseInt(this.index())-(1)];\\n    }\\n,this)]\\n        [this[\\\"changes\\\"].subscribe((function (val){!(this.valueFromJulia[\\\"changes\\\"]) ? (WebIO.setval({\\\"name\\\":\\\"changes\\\",\\\"scope\\\":\\\"432128499611573934\\\",\\\"id\\\":\\\"2121852769789286285\\\",\\\"type\\\":\\\"observable\\\"},val)) : undefined; return this.valueFromJulia[\\\"changes\\\"]=false}),self),this[\\\"index\\\"].subscribe((function (val){!(this.valueFromJulia[\\\"index\\\"]) ? (WebIO.setval({\\\"name\\\":\\\"index\\\",\\\"scope\\\":\\\"432128499611573934\\\",\\\"id\\\":\\\"4466760699861735115\\\",\\\"type\\\":\\\"observable\\\"},val)) : undefined; return this.valueFromJulia[\\\"index\\\"]=false}),self)]\\n        \\n    }\\n    self.model = new AppViewModel();\\n    self.valueFromJulia = {};\\n    for (var key in json_data) {\\n        self.valueFromJulia[key] = false;\\n    }\\n    ko.applyBindings(self.model, self.dom);\\n}\\n);\\n    (WebIO.importBlock({\\\"data\\\":[{\\\"name\\\":\\\"knockout\\\",\\\"type\\\":\\\"js\\\",\\\"url\\\":\\\"/assetserver/7131c77e135a4750f5f3b40f55e738d738110c3c-knockout.js\\\"},{\\\"name\\\":\\\"knockout_punches\\\",\\\"type\\\":\\\"js\\\",\\\"url\\\":\\\"/assetserver/6c7b4fe9879ab54653878e13a149e67913cebca5-knockout_punches.js\\\"}],\\\"type\\\":\\\"async_block\\\"})).then((imports) => handler.apply(this, imports));\\n}\\n\")])], Dict{Symbol, Any}(:className => \"field interact-widget\")), Node{WebIO.DOM}(WebIO.DOM(:html, :div), Any[Scope(Node{WebIO.DOM}(WebIO.DOM(:html, :div), Any[Node{WebIO.DOM}(WebIO.DOM(:html, :div), Any[Node{WebIO.DOM}(WebIO.DOM(:html, :label), Any[\"periodTime\"], Dict{Symbol, Any}(:className => \"interact \", :style => Dict{Any, Any}(:padding => \"5px 10px 0px 10px\")))], Dict{Symbol, Any}(:className => \"interact-flex-row-left\")), Node{WebIO.DOM}(WebIO.DOM(:html, :div), Any[Node{WebIO.DOM}(WebIO.DOM(:html, :input), Any[], Dict{Symbol, Any}(:max => 10, :min => 1, :attributes => Dict{Any, Any}(:type => \"range\", Symbol(\"data-bind\") => \"numericValue: index, valueUpdate: 'input', event: {change: function (){this.changes(this.changes()+1)}}\", \"orient\" => \"horizontal\"), :step => 1, :className => \"slider slider is-fullwidth\", :style => Dict{Any, Any}()))], Dict{Symbol, Any}(:className => \"interact-flex-row-center\")), Node{WebIO.DOM}(WebIO.DOM(:html, :div), Any[Node{WebIO.DOM}(WebIO.DOM(:html, :p), Any[], Dict{Symbol, Any}(:attributes => Dict(\"data-bind\" => \"text: formatted_val\")))], Dict{Symbol, Any}(:className => \"interact-flex-row-right\"))], Dict{Symbol, Any}(:className => \"interact-flex-row interact-widget\")), Dict{String, Tuple{AbstractObservable, Union{Nothing, Bool}}}(\"changes\" => (Observable(0), nothing), \"index\" => (Observable{Any}(5), nothing)), Set{String}(), nothing, Asset[Asset(\"js\", \"knockout\", \"/home/joerg/.julia/packages/Knockout/HReiN/src/../assets/knockout.js\"), Asset(\"js\", \"knockout_punches\", \"/home/joerg/.julia/packages/Knockout/HReiN/src/../assets/knockout_punches.js\"), Asset(\"js\", nothing, \"/home/joerg/.julia/packages/InteractBase/LJXv3/src/../assets/all.js\"), Asset(\"css\", nothing, \"/home/joerg/.julia/packages/InteractBase/LJXv3/src/../assets/style.css\"), Asset(\"css\", nothing, \"/home/joerg/.julia/packages/Interact/PENUy/src/../assets/bulma_confined.min.css\")], Dict{Any, Any}(\"changes\" => Any[WebIO.JSString(\"(function (val){return (val!=this.model[\\\"changes\\\"]()) ? (this.valueFromJulia[\\\"changes\\\"]=true, this.model[\\\"changes\\\"](val)) : undefined})\")], \"index\" => Any[WebIO.JSString(\"(function (val){return (val!=this.model[\\\"index\\\"]()) ? (this.valueFromJulia[\\\"index\\\"]=true, this.model[\\\"index\\\"](val)) : undefined})\")]), WebIO.ConnectionPool(Channel{Any}(32), Set{AbstractConnection}(), Base.GenericCondition{ReentrantLock}(Base.IntrusiveLinkedList{Task}(Task (runnable) @0x00007f11fab3e590, Task (runnable) @0x00007f11fab3e590), ReentrantLock(nothing, 0x00000000, 0x00, Base.GenericCondition{Base.Threads.SpinLock}(Base.IntrusiveLinkedList{Task}(nothing, nothing), Base.Threads.SpinLock(0)), (0, 139715173191728, 139714988569344)))), WebIO.JSString[WebIO.JSString(\"function () {\\n    var handler = (function (ko, koPunches) {\\n    ko.punches.enableAll();\\n    ko.bindingHandlers.numericValue = {\\n        init: function(element, valueAccessor, allBindings, data, context) {\\n            var stringified = ko.observable(ko.unwrap(valueAccessor()));\\n            stringified.subscribe(function(value) {\\n                var val = parseFloat(value);\\n                if (!isNaN(val)) {\\n                    valueAccessor()(val);\\n                }\\n            });\\n            valueAccessor().subscribe(function(value) {\\n                var str = JSON.stringify(value);\\n                if ((str == \\\"0\\\") && ([\\\"-0\\\", \\\"-0.\\\"].indexOf(stringified()) >= 0))\\n                     return;\\n                 if ([\\\"null\\\", \\\"\\\"].indexOf(str) >= 0)\\n                     return;\\n                stringified(str);\\n            });\\n            ko.applyBindingsToNode(\\n                element,\\n                {\\n                    value: stringified,\\n                    valueUpdate: allBindings.get('valueUpdate'),\\n                },\\n                context,\\n            );\\n        }\\n    };\\n    var json_data = {\\\"formatted_vals\\\":[\\\"0.1\\\",\\\"0.2\\\",\\\"0.3\\\",\\\"0.4\\\",\\\"0.5\\\",\\\"0.6\\\",\\\"0.7\\\",\\\"0.8\\\",\\\"0.9\\\",\\\"1.0\\\"],\\\"changes\\\":WebIO.getval({\\\"name\\\":\\\"changes\\\",\\\"scope\\\":\\\"11206522371445265560\\\",\\\"id\\\":\\\"5102294256921586576\\\",\\\"type\\\":\\\"observable\\\"}),\\\"index\\\":WebIO.getval({\\\"name\\\":\\\"index\\\",\\\"scope\\\":\\\"11206522371445265560\\\",\\\"id\\\":\\\"3196743261812157359\\\",\\\"type\\\":\\\"observable\\\"})};\\n    var self = this;\\n    function AppViewModel() {\\n        for (var key in json_data) {\\n            var el = json_data[key];\\n            this[key] = Array.isArray(el) ? ko.observableArray(el) : ko.observable(el);\\n        }\\n        \\n        [this[\\\"formatted_val\\\"]=ko.computed(    function(){\\n        return this.formatted_vals()[parseInt(this.index())-(1)];\\n    }\\n,this)]\\n        [this[\\\"changes\\\"].subscribe((function (val){!(this.valueFromJulia[\\\"changes\\\"]) ? (WebIO.setval({\\\"name\\\":\\\"changes\\\",\\\"scope\\\":\\\"11206522371445265560\\\",\\\"id\\\":\\\"5102294256921586576\\\",\\\"type\\\":\\\"observable\\\"},val)) : undefined; return this.valueFromJulia[\\\"changes\\\"]=false}),self),this[\\\"index\\\"].subscribe((function (val){!(this.valueFromJulia[\\\"index\\\"]) ? (WebIO.setval({\\\"name\\\":\\\"index\\\",\\\"scope\\\":\\\"11206522371445265560\\\",\\\"id\\\":\\\"3196743261812157359\\\",\\\"type\\\":\\\"observable\\\"},val)) : undefined; return this.valueFromJulia[\\\"index\\\"]=false}),self)]\\n        \\n    }\\n    self.model = new AppViewModel();\\n    self.valueFromJulia = {};\\n    for (var key in json_data) {\\n        self.valueFromJulia[key] = false;\\n    }\\n    ko.applyBindings(self.model, self.dom);\\n}\\n);\\n    (WebIO.importBlock({\\\"data\\\":[{\\\"name\\\":\\\"knockout\\\",\\\"type\\\":\\\"js\\\",\\\"url\\\":\\\"/assetserver/7131c77e135a4750f5f3b40f55e738d738110c3c-knockout.js\\\"},{\\\"name\\\":\\\"knockout_punches\\\",\\\"type\\\":\\\"js\\\",\\\"url\\\":\\\"/assetserver/6c7b4fe9879ab54653878e13a149e67913cebca5-knockout_punches.js\\\"}],\\\"type\\\":\\\"async_block\\\"})).then((imports) => handler.apply(this, imports));\\n}\\n\")])], Dict{Symbol, Any}(:className => \"field interact-widget\")), Observable(Node{WebIO.DOM}(WebIO.DOM(:html, :div), Any[Plot{Plots.GRBackend() n=1}], Dict{Symbol, Any}(:className => \"interact-flex-row interact-widget\")))], Dict{Symbol, Any}())"
      ]
     },
     "execution_count": 3,
     "metadata": {
      "@webio": {
       "kernelId": "9b1525d6-0401-4e8b-a4fe-fc46fdd2ec8a"
      }
     },
     "output_type": "execute_result"
    }
   ],
   "source": [
    "using OMJulia, Plots, Interact, DataFrames\n",
    "\n",
    "testPWM_m = OMJulia.OMCSession()\n",
    "sendExpression(testPWM_m, \"loadModel(Modelica)\")\n",
    "sendExpression(testPWM_m, \"loadFile(\\\"../OpenBLDC/package.mo\\\")\")\n",
    "ModelicaSystem(testPWM_m, \"../OpenBLDC/package.mo\", \"OpenBLDC.Tests.TestPWM\", [\"Modelica\"])  # works\n",
    "setSimulationOptions(testPWM_m, [\"stopTime=2.0\", \"tolerance=1e-8\"])\n",
    "gr(size=(700,300))\n",
    "ui = @manipulate for dutyCycle = 0.05:.05:0.95, periodTime = 0.1:.1:1.0\n",
    "  setParameters(testPWM_m, [\"dutyCycle=$dutyCycle\", \"periodTime=$periodTime\"])\n",
    "  simulate(testPWM_m)\n",
    "  sol = getSolutions(testPWM_m, [\"time\", \"pulseWidthVar.y\"])\n",
    "  time, y = sol[1], sol[2]\n",
    "  p1 = plot(time, y, label=\"\", xlabel=\"time [s]\", ylabel=\"y [-]\")\n",
    "  #p2 = plot(time, v, label=\"\", xlabel=\"time [s]\", ylabel=\"v [V]\")\n",
    "  #plot(p1,p2,layout=(1,2))\n",
    "  plot(p1)\n",
    "end"
   ]
  },
  {
   "cell_type": "code",
   "execution_count": 4,
   "id": "60581411-b55c-475e-b3b4-c00b46d1cb50",
   "metadata": {},
   "outputs": [
    {
     "name": "stdout",
     "output_type": "stream",
     "text": [
      "stopTime=2.0\n",
      "\n",
      "periodTime=0.5\n",
      "\n",
      "dutyCycle=0.65\n",
      "\n",
      "tolerance=1e-8\n",
      "\n",
      "stopTime=2.0\n",
      "\n",
      "periodTime=0.5\n",
      "\n",
      "dutyCycle=0.25\n",
      "\n",
      "tolerance=1e-8\n",
      "\n",
      "stopTime=2.0\n",
      "\n",
      "periodTime=0.7\n",
      "\n",
      "dutyCycle=0.25\n",
      "\n",
      "tolerance=1e-8\n",
      "\n",
      "stopTime=2.0\n",
      "\n",
      "periodTime=0.1\n",
      "\n",
      "dutyCycle=0.25\n",
      "\n",
      "tolerance=1e-8\n",
      "\n",
      "stopTime=2.0\n",
      "\n",
      "periodTime=0.1\n",
      "\n",
      "dutyCycle=0.5\n",
      "\n",
      "tolerance=1e-8\n",
      "\n"
     ]
    }
   ],
   "source": [
    "using Blink\n",
    "w = Window()\n",
    "body!(w, ui);"
   ]
  },
  {
   "cell_type": "code",
   "execution_count": null,
   "id": "e57991f7",
   "metadata": {},
   "outputs": [],
   "source": []
  },
  {
   "cell_type": "code",
   "execution_count": null,
   "id": "d25c26ec-9c91-4ef9-8d5d-878297e9115c",
   "metadata": {},
   "outputs": [],
   "source": [
    "using OMJulia, Plots, Interact\n",
    "\n",
    "mlNLPD = OMJulia.OMCSession()\n",
    "ModelicaSystem(mlNLPD, \"MagLevNLPD.mo\",\"MagLevNLPD\")\n",
    "setSimulationOptions(mlNLPD, [\"stopTime=0.5\", \"tolerance=1e-8\"])\n",
    "gr(size=(700,300))\n",
    "@manipulate for dutyCycle = 0.05:.05:0.95, periodTime = 0.1:.1:1.0\n",
    "  setParameters(mlNLPD, [\"Kp=$Kp\", \"Td=$Td\", \"d0=$d0\"])\n",
    "  simulate(mlNLPD)\n",
    "  sol = getSolutions(mlNLPD, [\"time\", \"d\", \"v\"])\n",
    "  time, d, v = sol[1], sol[2], sol[3]\n",
    "  p1 = plot(time, d, label=\"\", xlabel=\"time [s]\", ylabel=\"d [m]\")\n",
    "  p2 = plot(time, v, label=\"\", xlabel=\"time [s]\", ylabel=\"v [V]\")\n",
    "  plot(p1,p2,layout=(1,2))\n",
    "end"
   ]
  },
  {
   "cell_type": "code",
   "execution_count": null,
   "id": "df6d8d47-f02a-4dbc-81c1-dfd66159352d",
   "metadata": {},
   "outputs": [],
   "source": []
  }
 ],
 "metadata": {
  "@webio": {
   "lastCommId": "66dac7cd-d93d-4119-becf-fadfa1b47cad",
   "lastKernelId": "3a3cb5ba-fb14-4bb6-9c28-50f7a0beb156"
  },
  "kernelspec": {
   "display_name": "Julia 1.9.3",
   "language": "julia",
   "name": "julia-1.9"
  },
  "language_info": {
   "file_extension": ".jl",
   "mimetype": "application/julia",
   "name": "julia",
   "version": "1.9.3"
  }
 },
 "nbformat": 4,
 "nbformat_minor": 5
}
