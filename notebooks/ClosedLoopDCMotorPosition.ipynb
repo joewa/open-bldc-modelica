{
 "cells": [
  {
   "cell_type": "markdown",
   "id": "8f392e4e-a9b6-4fdc-bf23-1ce29b1d5626",
   "metadata": {},
   "source": [
    "# Closed loop position control of a small DC motor"
   ]
  },
  {
   "cell_type": "code",
   "execution_count": null,
   "id": "f700cd97-14e0-4431-8b0f-d2bdf444dc35",
   "metadata": {},
   "outputs": [],
   "source": [
    "using OMJulia, Plots, Interact, WebIO, DataFrames"
   ]
  },
  {
   "cell_type": "markdown",
   "id": "bdd5c0ed-bfb0-4c57-8f53-960ed118c6d1",
   "metadata": {},
   "source": [
    "## Discrete proportional controller"
   ]
  },
  {
   "cell_type": "code",
   "execution_count": null,
   "id": "19ba2ce8-1056-42ee-be89-c7302c99c427",
   "metadata": {},
   "outputs": [],
   "source": [
    "dcmotor_m = OMJulia.OMCSession()\n",
    "sendExpression(dcmotor_m, \"loadModel(Modelica)\")\n",
    "sendExpression(dcmotor_m, \"loadFile(\\\"../OpenBLDC/package.mo\\\")\")\n",
    "ModelicaSystem(dcmotor_m, \"../OpenBLDC/package.mo\", \"OpenBLDC.Tests.ClosedLoop.DCMotorPositionDiscrete\", [\"Modelica\"])\n",
    "setSimulationOptions(dcmotor_m, [\"stopTime=1.0\", \"tolerance=1e-8\"])\n",
    "gr(size=(600,300))"
   ]
  },
  {
   "cell_type": "code",
   "execution_count": null,
   "id": "68f84f58-bf7d-4cd0-b37d-07368b408765",
   "metadata": {},
   "outputs": [],
   "source": [
    "function sim_DCMotorPositionController(dcmotor_m, parameters)\n",
    "    k_p, t_s = parameters\n",
    "    setParameters(dcmotor_m, [\"k_p=$k_p\", \"t_s=$t_s\"])\n",
    "    simulate(dcmotor_m)\n",
    "    sol = getSolutions(dcmotor_m, [\"time\", \"positionController.y\"])\n",
    "    time, y = sol[1], sol[2]\n",
    "    plt = plot(time, y, label=\"\", xlabel=\"time [s]\", ylabel=\"y [-]\")\n",
    "    return plt\n",
    "end\n",
    "\n",
    "sim_DCMotorPositionController(dcmotor_m, (25.0, 0.02))"
   ]
  },
  {
   "cell_type": "code",
   "execution_count": null,
   "id": "6b6cc44c-264d-44db-ba46-09aec0ed6a8e",
   "metadata": {},
   "outputs": [],
   "source": [
    "function test_DCMotorPositionController(dcmotor_m, k_p_vals, t_s_vals)\n",
    "    k_p_slider = slider(k_p_vals, label = \"k_p\")\n",
    "    t_s_slider = slider(t_s_vals, label = \"t_s\")\n",
    "    update = button(\"Update plot\")\n",
    "    parameters = Interact.@map (&update; (k_p_slider[], t_s_slider[]))\n",
    "    # print(parameters)\n",
    "    plt = Interact.@map sim_DCMotorPositionController(dcmotor_m, &parameters)\n",
    "    wdg = Widget([\"k_p_slider\" => k_p_slider, \"t_s_slider\" => t_s_slider, \"update\" => update])\n",
    "    @layout! wdg hbox(plt, vbox(:k_p_slider, :t_s_slider, :update))\n",
    "end"
   ]
  },
  {
   "cell_type": "code",
   "execution_count": null,
   "id": "c15f5be7-53d0-41de-9a47-5d1d2903bfbb",
   "metadata": {},
   "outputs": [],
   "source": [
    "ui = test_DCMotorPositionController(dcmotor_m, 0.0:5.0:100.0, 0.005:0.0025:0.1)\n",
    "# display(ui)  # Currently not working with WSL2 because of 404 GET /assetserver/..."
   ]
  },
  {
   "cell_type": "code",
   "execution_count": null,
   "id": "47435462-bc09-4ab2-ba8a-0baca982bc70",
   "metadata": {},
   "outputs": [],
   "source": [
    "using Blink\n",
    "w = Window()\n",
    "body!(w, ui);"
   ]
  },
  {
   "cell_type": "markdown",
   "id": "ddd39ee4-a89b-46d4-abf3-bb1f729b2a96",
   "metadata": {},
   "source": [
    "## A simpler approach using `@manipulate`"
   ]
  },
  {
   "cell_type": "code",
   "execution_count": null,
   "id": "e39e5565-d516-4c3e-8587-ab9fe1c9ab39",
   "metadata": {},
   "outputs": [],
   "source": [
    "using OMJulia, Plots, Interact, WebIO, DataFrames\n",
    "\n",
    "dcmotor_m = OMJulia.OMCSession()\n",
    "sendExpression(dcmotor_m, \"loadModel(Modelica)\")\n",
    "sendExpression(dcmotor_m, \"loadFile(\\\"../OpenBLDC/package.mo\\\")\")\n",
    "ModelicaSystem(dcmotor_m, \"../OpenBLDC/package.mo\", \"OpenBLDC.Tests.ClosedLoop.DCMotorPositionDiscrete\", [\"Modelica\"])\n",
    "setSimulationOptions(dcmotor_m, [\"stopTime=1.0\", \"tolerance=1e-8\"])\n",
    "gr(size=(700,300))\n",
    "\n",
    "ui = @manipulate for k_p = 0.0:5.0:100.0, t_s = 0.005:0.0025:0.1\n",
    "  setParameters(dcmotor_m, [\"k_p=$k_p\", \"t_s=$t_s\"])\n",
    "  simulate(dcmotor_m);\n",
    "  sol = getSolutions(dcmotor_m, [\"time\", \"positionController.y\"])\n",
    "  time, y = sol[1], sol[2]\n",
    "  p1 = plot(time, y, label=\"\", xlabel=\"time [s]\", ylabel=\"y [-]\")\n",
    "  plot(p1)\n",
    "end"
   ]
  },
  {
   "cell_type": "code",
   "execution_count": null,
   "id": "05761e2f-3fe7-44f6-b49c-36ca45aed75b",
   "metadata": {},
   "outputs": [],
   "source": [
    "# display(ui)  # Currently not working with WSL2 because of 404 GET /assetserver/..."
   ]
  },
  {
   "cell_type": "code",
   "execution_count": null,
   "id": "b1ee2046-4afb-4e6b-98f4-5fdca55bceba",
   "metadata": {},
   "outputs": [],
   "source": [
    "using Blink\n",
    "w = Window()\n",
    "body!(w, ui);"
   ]
  },
  {
   "cell_type": "markdown",
   "id": "cd4ae0ae-cbe9-49db-9734-765e5a5caf0c",
   "metadata": {},
   "source": [
    "## Controller \"Software in the loop\" using ModelicaDeviceDrivers"
   ]
  },
  {
   "cell_type": "code",
   "execution_count": null,
   "id": "76fd8beb-f961-4e91-b86b-5055ffd4a865",
   "metadata": {},
   "outputs": [],
   "source": [
    "using OMJulia, Plots, Interact, WebIO, DataFrames\n",
    "\n",
    "controller_exefile = `../OpenBLDC/Resources/build/test/Communication/TCPIPClientAsClosedLoopPositionController`;\n",
    "controller_task = @task begin; run(controller_exefile); println(\"done\"); end\n",
    "dcmotor_m = OMJulia.OMCSession()\n",
    "sendExpression(dcmotor_m, \"loadModel(Modelica)\")\n",
    "sendExpression(dcmotor_m, \"loadFile(\\\"../OpenBLDC/package.mo\\\")\")\n",
    "ModelicaSystem(dcmotor_m, \"../OpenBLDC/package.mo\", \"OpenBLDC.Tests.ClosedLoop.DCMotorPositionTcpIP\", [\"Modelica\"])\n",
    "setSimulationOptions(dcmotor_m, [\"stopTime=1.0\", \"tolerance=1e-8\"])\n",
    "gr(size=(700,300))"
   ]
  },
  {
   "cell_type": "code",
   "execution_count": null,
   "id": "df81677e-c834-4881-8257-f25ad62cee2f",
   "metadata": {},
   "outputs": [],
   "source": [
    "#setParameters(dcmotor_m, [\"k_p=25.0\", \"t_s=0.02\"])"
   ]
  },
  {
   "cell_type": "markdown",
   "id": "13d39548-5303-4343-918f-6f70661ca8b7",
   "metadata": {},
   "source": [
    "### Now try async"
   ]
  },
  {
   "cell_type": "code",
   "execution_count": null,
   "id": "36337a6b-c316-4428-9807-4724328089c0",
   "metadata": {},
   "outputs": [],
   "source": [
    " # wait a fixed time until the server has opened the p"
   ]
  },
  {
   "cell_type": "code",
   "execution_count": null,
   "id": "4a3cf288-3cef-4f7f-b394-610121cb01ff",
   "metadata": {},
   "outputs": [],
   "source": [
    "function sim_DCMotorPositionControllerTcpIP(dcmotor_m, parameters)\n",
    "    # k_p, t_s = parameters\n",
    "    t_s = parameters\n",
    "    setParameters(dcmotor_m, [\"t_s=$t_s\"])\n",
    "\n",
    "    om_task = @task begin; simulate(dcmotor_m); println(\"sim done\"); end\n",
    "    wait_task  = @task begin; sleep(0.25); println(\"wait done\"); end\n",
    "    controller_exefile = `../OpenBLDC/Resources/build/test/Communication/TCPIPClientAsClosedLoopPositionController`;\n",
    "    controller_exefile = `/home/joerg/repos/OpenBLDC/open-bldc-modelica/OpenBLDC/Resources/build/test/Communication/TCPIPClientAsClosedLoopPositionController`;\n",
    "    # TODO: controller_task doesn't return. Shouldn't be a task anymore when this is fixed.\n",
    "    controller_task  = @task begin; run(controller_exefile); println(\"controller done\"); end\n",
    "    schedule(om_task)\n",
    "    schedule(wait_task); wait(wait_task)  # wait a fixed time until the server has opened the port\n",
    "    schedule(controller_task)\n",
    "    println(\"all done\");\n",
    "\n",
    "    sol = getSolutions(dcmotor_m, [\"time\", \"positionController.y\"])\n",
    "    time, y = sol[1], sol[2]\n",
    "    plt = plot(time, y, label=\"\", xlabel=\"time [s]\", ylabel=\"y [-]\")\n",
    "    return plt\n",
    "end\n",
    "\n",
    "sim_DCMotorPositionControllerTcpIP(dcmotor_m, 0.02)"
   ]
  },
  {
   "cell_type": "code",
   "execution_count": null,
   "id": "1fbd5dbf-0324-4c75-86f0-7629c71dad45",
   "metadata": {},
   "outputs": [],
   "source": [
    "function test_DCMotorPositionControllerTcpIP(dcmotor_m, t_s_vals)\n",
    "    t_s_slider = slider(t_s_vals, label = \"t_s\")\n",
    "    update = button(\"Update plot\")\n",
    "    parameters = Interact.@map (&update; (t_s_slider[]))\n",
    "    print(parameters)\n",
    "    plt = Interact.@map sim_DCMotorPositionControllerTcpIP(dcmotor_m, &parameters)\n",
    "    wdg = Widget([\"t_s_slider\" => t_s_slider, \"update\" => update])\n",
    "    @layout! wdg hbox(plt, vbox(:t_s_slider, :update))\n",
    "end"
   ]
  },
  {
   "cell_type": "code",
   "execution_count": null,
   "id": "89690c54-30a1-436b-975e-f58ec4922d87",
   "metadata": {},
   "outputs": [],
   "source": [
    "ui = test_DCMotorPositionControllerTcpIP(dcmotor_m, 0.005:0.0025:0.1)\n",
    "# display(ui)  # Currently not working with WSL2 because of 404 GET /assetserver/..."
   ]
  },
  {
   "cell_type": "code",
   "execution_count": null,
   "id": "9eaee003-508d-40a3-a1a7-84e1f2d76808",
   "metadata": {},
   "outputs": [],
   "source": [
    "using Blink\n",
    "w = Window()\n",
    "body!(w, ui);"
   ]
  },
  {
   "cell_type": "code",
   "execution_count": null,
   "id": "b2b2158c-3ee6-4487-8fef-c5157512e37c",
   "metadata": {},
   "outputs": [],
   "source": [
    "om_task = @task begin; simulate(dcmotor_m); println(\"sim done\"); end\n",
    "wait_task  = @task begin; sleep(0.25); println(\"wait done\"); end\n",
    "controller_exefile = `../OpenBLDC/Resources/build/test/Communication/TCPIPClientAsClosedLoopPositionController`;\n",
    "controller_exefile = `/home/joerg/repos/OpenBLDC/open-bldc-modelica/OpenBLDC/Resources/build/test/Communication/TCPIPClientAsClosedLoopPositionController`;\n",
    "# TODO: controller_task doesn't return. Shouldn't be a task anymore when this is fixed.\n",
    "controller_task  = @task begin; run(controller_exefile); println(\"controller done\"); end\n",
    "schedule(om_task)\n",
    "schedule(wait_task); wait(wait_task)  # wait a fixed time until the server has opened the port\n",
    "schedule(controller_task)\n",
    "println(\"all done\");"
   ]
  },
  {
   "cell_type": "code",
   "execution_count": null,
   "id": "a36b7e4a-4c80-4394-9a29-5cbffe7d3ab5",
   "metadata": {},
   "outputs": [],
   "source": [
    "sol = getSolutions(dcmotor_m, [\"time\", \"positionController.y\"])\n",
    "time, y = sol[1], sol[2]\n",
    "p1 = plot(time, y, label=\"\", xlabel=\"time [s]\", ylabel=\"y [-]\")"
   ]
  },
  {
   "cell_type": "code",
   "execution_count": null,
   "id": "52f2339f-8a78-4e39-a026-482c009ace2b",
   "metadata": {},
   "outputs": [],
   "source": []
  }
 ],
 "metadata": {
  "kernelspec": {
   "display_name": "Julia 1.9.3",
   "language": "julia",
   "name": "julia-1.9"
  },
  "language_info": {
   "file_extension": ".jl",
   "mimetype": "application/julia",
   "name": "julia",
   "version": "1.9.3"
  }
 },
 "nbformat": 4,
 "nbformat_minor": 5
}
