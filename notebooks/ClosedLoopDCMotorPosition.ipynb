{
 "cells": [
  {
   "cell_type": "markdown",
   "id": "8f392e4e-a9b6-4fdc-bf23-1ce29b1d5626",
   "metadata": {},
   "source": [
    "# Closed loop position control of a small DC motor"
   ]
  },
  {
   "cell_type": "code",
   "execution_count": null,
   "id": "f700cd97-14e0-4431-8b0f-d2bdf444dc35",
   "metadata": {},
   "outputs": [],
   "source": [
    "using OMJulia, Plots, Interact, WebIO, DataFrames"
   ]
  },
  {
   "cell_type": "markdown",
   "id": "bdd5c0ed-bfb0-4c57-8f53-960ed118c6d1",
   "metadata": {},
   "source": [
    "## Discrete proportional controller"
   ]
  },
  {
   "cell_type": "code",
   "execution_count": null,
   "id": "19ba2ce8-1056-42ee-be89-c7302c99c427",
   "metadata": {},
   "outputs": [],
   "source": [
    "dcmotor_m = OMJulia.OMCSession()\n",
    "sendExpression(dcmotor_m, \"loadModel(Modelica)\")\n",
    "sendExpression(dcmotor_m, \"loadFile(\\\"../OpenBLDC/package.mo\\\")\")\n",
    "ModelicaSystem(dcmotor_m, \"../OpenBLDC/package.mo\", \"OpenBLDC.Tests.ClosedLoop.DCMotorPositionDiscrete\", [\"Modelica\"])\n",
    "setSimulationOptions(dcmotor_m, [\"stopTime=1.0\", \"tolerance=1e-8\"])\n",
    "gr(size=(600,300))"
   ]
  },
  {
   "cell_type": "code",
   "execution_count": null,
   "id": "68f84f58-bf7d-4cd0-b37d-07368b408765",
   "metadata": {},
   "outputs": [],
   "source": [
    "function sim_DCMotorPositionController(dcmotor_m, parameters)\n",
    "    k_p, t_s = parameters\n",
    "    setParameters(dcmotor_m, [\"k_p=$k_p\", \"t_s=$t_s\"])\n",
    "    simulate(dcmotor_m)\n",
    "    sol = getSolutions(dcmotor_m, [\"time\", \"positionController.y\"])\n",
    "    time, y = sol[1], sol[2]\n",
    "    plt = plot(time, y, label=\"\", xlabel=\"time [s]\", ylabel=\"y [-]\")\n",
    "    return plt\n",
    "end\n",
    "\n",
    "sim_DCMotorPositionController(dcmotor_m, (25.0, 0.02))"
   ]
  },
  {
   "cell_type": "code",
   "execution_count": null,
   "id": "6b6cc44c-264d-44db-ba46-09aec0ed6a8e",
   "metadata": {},
   "outputs": [],
   "source": [
    "function test_DCMotorPositionController(dcmotor_m, k_p_vals, t_s_vals)\n",
    "    k_p_slider = slider(k_p_vals, label = \"k_p\")\n",
    "    t_s_slider = slider(t_s_vals, label = \"t_s\")\n",
    "    update = button(\"Update plot\")\n",
    "    parameters = Interact.@map (&update; (k_p_slider[], t_s_slider[]))\n",
    "    # print(parameters)\n",
    "    plt = Interact.@map sim_DCMotorPositionController(dcmotor_m, &parameters)\n",
    "    wdg = Widget([\"k_p_slider\" => k_p_slider, \"t_s_slider\" => t_s_slider, \"update\" => update])\n",
    "    @layout! wdg hbox(plt, vbox(:k_p_slider, :t_s_slider, :update))\n",
    "end"
   ]
  },
  {
   "cell_type": "code",
   "execution_count": null,
   "id": "c15f5be7-53d0-41de-9a47-5d1d2903bfbb",
   "metadata": {},
   "outputs": [],
   "source": [
    "ui = test_DCMotorPositionController(dcmotor_m, 0.0:5.0:100.0, 0.005:0.0025:0.1)\n",
    "# display(ui)  # Currently not working with WSL2 because of 404 GET /assetserver/..."
   ]
  },
  {
   "cell_type": "code",
   "execution_count": null,
   "id": "47435462-bc09-4ab2-ba8a-0baca982bc70",
   "metadata": {},
   "outputs": [],
   "source": [
    "using Blink\n",
    "w = Window()\n",
    "body!(w, ui);"
   ]
  },
  {
   "cell_type": "markdown",
   "id": "ddd39ee4-a89b-46d4-abf3-bb1f729b2a96",
   "metadata": {},
   "source": [
    "## A simpler approach using `@manipulate`"
   ]
  },
  {
   "cell_type": "code",
   "execution_count": null,
   "id": "e39e5565-d516-4c3e-8587-ab9fe1c9ab39",
   "metadata": {},
   "outputs": [],
   "source": [
    "using OMJulia, Plots, Interact, WebIO, DataFrames\n",
    "\n",
    "dcmotor_m = OMJulia.OMCSession()\n",
    "sendExpression(dcmotor_m, \"loadModel(Modelica)\")\n",
    "sendExpression(dcmotor_m, \"loadFile(\\\"../OpenBLDC/package.mo\\\")\")\n",
    "ModelicaSystem(dcmotor_m, \"../OpenBLDC/package.mo\", \"OpenBLDC.Tests.ClosedLoop.DCMotorPositionDiscrete\", [\"Modelica\"])\n",
    "setSimulationOptions(dcmotor_m, [\"stopTime=1.0\", \"tolerance=1e-8\"])\n",
    "gr(size=(700,300))\n",
    "\n",
    "ui = @manipulate for k_p = 0.0:5.0:100.0, t_s = 0.005:0.0025:0.1\n",
    "  setParameters(dcmotor_m, [\"k_p=$k_p\", \"t_s=$t_s\"])\n",
    "  simulate(dcmotor_m);\n",
    "  sol = getSolutions(dcmotor_m, [\"time\", \"positionController.y\"])\n",
    "  time, y = sol[1], sol[2]\n",
    "  p1 = plot(time, y, label=\"\", xlabel=\"time [s]\", ylabel=\"y [-]\")\n",
    "  plot(p1)\n",
    "end"
   ]
  },
  {
   "cell_type": "code",
   "execution_count": null,
   "id": "05761e2f-3fe7-44f6-b49c-36ca45aed75b",
   "metadata": {},
   "outputs": [],
   "source": [
    "# display(ui)  # Currently not working with WSL2 because of 404 GET /assetserver/..."
   ]
  },
  {
   "cell_type": "code",
   "execution_count": null,
   "id": "b1ee2046-4afb-4e6b-98f4-5fdca55bceba",
   "metadata": {},
   "outputs": [],
   "source": [
    "using Blink\n",
    "w = Window()\n",
    "body!(w, ui);"
   ]
  },
  {
   "cell_type": "markdown",
   "id": "cd4ae0ae-cbe9-49db-9734-765e5a5caf0c",
   "metadata": {},
   "source": [
    "## Controller \"Software in the loop\" using ModelicaDeviceDrivers"
   ]
  },
  {
   "cell_type": "code",
   "execution_count": null,
   "id": "76fd8beb-f961-4e91-b86b-5055ffd4a865",
   "metadata": {},
   "outputs": [],
   "source": [
    "using OMJulia, Plots, Interact, WebIO, DataFrames\n",
    "\n",
    "controller_exefile = `../OpenBLDC/Resources/build/test/Communication/TCPIPClientAsClosedLoopPositionController`;\n",
    "controller_task = @task begin; run(controller_exefile); println(\"done\"); end\n",
    "dcmotor_m = OMJulia.OMCSession()\n",
    "sendExpression(dcmotor_m, \"loadModel(Modelica)\")\n",
    "sendExpression(dcmotor_m, \"loadFile(\\\"../OpenBLDC/package.mo\\\")\")\n",
    "ModelicaSystem(dcmotor_m, \"../OpenBLDC/package.mo\", \"OpenBLDC.Tests.ClosedLoop.DCMotorPositionTcpIP\", [\"Modelica\"])\n",
    "setSimulationOptions(dcmotor_m, [\"stopTime=1.0\", \"tolerance=1e-8\"])\n",
    "gr(size=(700,300))"
   ]
  },
  {
   "cell_type": "code",
   "execution_count": null,
   "id": "97e47639-c313-44bd-b7dd-c3ace8c2429f",
   "metadata": {},
   "outputs": [],
   "source": [
    "# Not working yet...\n",
    "\n",
    "ui = @manipulate for k_p = 0.0:5.0:100.0, t_s = 0.005:0.0025:0.1\n",
    "    setParameters(dcmotor_m, [\"k_p=$k_p\", \"t_s=$t_s\"])\n",
    "    controller_task = @task begin; sleep(3); println(\"start controller\"); run(controller_exefile); println(\"controller done\"); end\n",
    "    om_task = @task begin; simulate(dcmotor_m); println(\"sim done\"); end\n",
    "    schedule(om_task); schedule(controller_task); wait(om_task)\n",
    "    #simulate(dcmotor_m);\n",
    "    sol = getSolutions(dcmotor_m, [\"time\", \"positionController.y\"])\n",
    "    time, y = sol[1], sol[2]\n",
    "    p1 = plot(time, y, label=\"\", xlabel=\"time [s]\", ylabel=\"y [-]\")\n",
    "    plot(p1)\n",
    "end"
   ]
  },
  {
   "cell_type": "code",
   "execution_count": null,
   "id": "df81677e-c834-4881-8257-f25ad62cee2f",
   "metadata": {},
   "outputs": [],
   "source": []
  },
  {
   "cell_type": "code",
   "execution_count": null,
   "id": "1340d016-381c-46b8-a875-1bad95ddbe8b",
   "metadata": {},
   "outputs": [],
   "source": [
    "controller_exefile = `../OpenBLDC/Resources/build/test/Communication/TCPIPClientAsClosedLoopPositionController`;\n",
    "controller_task = @task begin; run(controller_exefile); println(\"done\"); end"
   ]
  },
  {
   "cell_type": "code",
   "execution_count": null,
   "id": "5aa67e23-0410-41da-af55-5f143fc0ad2d",
   "metadata": {},
   "outputs": [],
   "source": [
    "schedule(controller_task);"
   ]
  },
  {
   "cell_type": "code",
   "execution_count": null,
   "id": "b39868a4-bbf6-43dc-93f8-ff71451bd585",
   "metadata": {},
   "outputs": [],
   "source": [
    "mycommand = `echo hello`"
   ]
  },
  {
   "cell_type": "code",
   "execution_count": null,
   "id": "24f36274-d2b8-4798-9a46-009050a2eb5b",
   "metadata": {},
   "outputs": [],
   "source": [
    "typeof(mycommand)"
   ]
  },
  {
   "cell_type": "code",
   "execution_count": null,
   "id": "0bdcef5d-e3f8-4e8f-b009-ae10d138fd8f",
   "metadata": {},
   "outputs": [],
   "source": [
    "run(mycommand);"
   ]
  },
  {
   "cell_type": "code",
   "execution_count": null,
   "id": "52f2339f-8a78-4e39-a026-482c009ace2b",
   "metadata": {},
   "outputs": [],
   "source": []
  }
 ],
 "metadata": {
  "kernelspec": {
   "display_name": "Julia 1.9.3",
   "language": "julia",
   "name": "julia-1.9"
  },
  "language_info": {
   "file_extension": ".jl",
   "mimetype": "application/julia",
   "name": "julia",
   "version": "1.9.3"
  }
 },
 "nbformat": 4,
 "nbformat_minor": 5
}
